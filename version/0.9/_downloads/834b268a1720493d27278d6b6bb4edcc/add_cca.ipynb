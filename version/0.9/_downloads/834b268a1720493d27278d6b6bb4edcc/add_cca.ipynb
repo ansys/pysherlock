{
  "cells": [
    {
      "cell_type": "markdown",
      "metadata": {},
      "source": [
        "\n\n# Add Circuit Card Assembly\n\nThis example demonstrates how to connect to the Sherlock gRPC service, import a project,\nand add a CCA (Circuit Card Assembly) to a project.\n\n## Description\nSherlock's gRPC API allows users to automate workflows such as adding CCAs to a project\nand importing ODB++ archives.\nThis script demonstrates how to:\n- Connect to the Sherlock service.\n- Import a project.\n- Add CCAs to the project.\n\nThe added CCAs allow for proper circuit analysis and component tracking within the project.\n"
      ]
    },
    {
      "cell_type": "code",
      "execution_count": null,
      "metadata": {
        "collapsed": false
      },
      "outputs": [],
      "source": [
        "import os\n\nfrom examples.examples_globals import get_sherlock_tutorial_path\n\nfrom ansys.sherlock.core import launcher\nfrom ansys.sherlock.core.errors import SherlockAddCCAError, SherlockImportProjectZipArchiveError"
      ]
    },
    {
      "cell_type": "markdown",
      "metadata": {},
      "source": [
        "### Connect to Sherlock\nConnect to the Sherlock service and ensure proper initialization.\n\n"
      ]
    },
    {
      "cell_type": "code",
      "execution_count": null,
      "metadata": {
        "collapsed": false
      },
      "outputs": [],
      "source": [
        "sherlock = launcher.connect(port=9092, timeout=10)"
      ]
    },
    {
      "cell_type": "markdown",
      "metadata": {},
      "source": [
        "### Delete Project\nDelete the project if it already exists.\n\n"
      ]
    },
    {
      "cell_type": "code",
      "execution_count": null,
      "metadata": {
        "collapsed": false
      },
      "outputs": [],
      "source": [
        "try:\n    sherlock.project.delete_project(\"Test\")\n    print(\"Project deleted successfully.\")\nexcept Exception:\n    pass"
      ]
    },
    {
      "cell_type": "markdown",
      "metadata": {},
      "source": [
        "### Import Tutorial Project\nImport the tutorial project zip archive from the Sherlock tutorial directory.\n\n"
      ]
    },
    {
      "cell_type": "code",
      "execution_count": null,
      "metadata": {
        "collapsed": false
      },
      "outputs": [],
      "source": [
        "try:\n    sherlock.project.import_project_zip_archive(\n        project=\"Test\",\n        category=\"Demos\",\n        archive_file=os.path.join(get_sherlock_tutorial_path(), \"Auto Relay Project.zip\"),\n    )\n    print(\"Tutorial project imported successfully.\")\nexcept SherlockImportProjectZipArchiveError as e:\n    print(f\"Error importing project: {str(e)}\")"
      ]
    },
    {
      "cell_type": "markdown",
      "metadata": {},
      "source": [
        "### Add CCA to Project\nAdd a CCA to a project.\n\n"
      ]
    },
    {
      "cell_type": "code",
      "execution_count": null,
      "metadata": {
        "collapsed": false
      },
      "outputs": [],
      "source": [
        "try:\n    sherlock.project.add_cca(\n        project=\"Test\",\n        cca_properties=[\n            {\n                \"cca_name\": \"Card 2\",\n                \"description\": \"Second CCA\",\n                \"default_solder_type\": \"SAC305\",\n                \"default_stencil_thickness\": 10,\n                \"default_stencil_thickness_units\": \"mm\",\n                \"default_part_temp_rise\": 20,\n                \"default_part_temp_rise_units\": \"C\",\n                \"guess_part_properties_enabled\": False,\n            }\n        ],\n    )\n    print(\"Card 2 added successfully.\")\nexcept SherlockAddCCAError as e:\n    print(f\"Error adding CCA: {str(e)}\")"
      ]
    }
  ],
  "metadata": {
    "kernelspec": {
      "display_name": "Python 3",
      "language": "python",
      "name": "python3"
    },
    "language_info": {
      "codemirror_mode": {
        "name": "ipython",
        "version": 3
      },
      "file_extension": ".py",
      "mimetype": "text/x-python",
      "name": "python",
      "nbconvert_exporter": "python",
      "pygments_lexer": "ipython3",
      "version": "3.13.1"
    }
  },
  "nbformat": 4,
  "nbformat_minor": 0
}