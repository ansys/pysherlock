{
  "cells": [
    {
      "cell_type": "markdown",
      "metadata": {},
      "source": [
        "\n\n# Update Random Vibration Properties\n\nThis example demonstrates how to connect to the Sherlock gRPC service, import a project,\nand update random vibration properties.\n\n## Description\nSherlock allows you to configure random vibration properties for specific PCBs.\nThis script performs the following steps:\n- Connect to the Sherlock service.\n- Import a project.\n- Update random vibration properties.\n\nFor further details, refer to the official documentation on random vibration properties in Sherlock.\n"
      ]
    },
    {
      "cell_type": "code",
      "execution_count": null,
      "metadata": {
        "collapsed": false
      },
      "outputs": [],
      "source": [
        "import os\n\nfrom examples.examples_globals import get_sherlock_tutorial_path\n\nfrom ansys.sherlock.core import launcher\nfrom ansys.sherlock.core.errors import (\n    SherlockImportProjectZipArchiveError,\n    SherlockUpdateRandomVibePropsError,\n)"
      ]
    },
    {
      "cell_type": "markdown",
      "metadata": {},
      "source": [
        "### Connect to Sherlock\nConnect to the Sherlock service and ensure proper initialization.\n\n"
      ]
    },
    {
      "cell_type": "code",
      "execution_count": null,
      "metadata": {
        "collapsed": false
      },
      "outputs": [],
      "source": [
        "sherlock = launcher.connect(port=9092, timeout=10)"
      ]
    },
    {
      "cell_type": "markdown",
      "metadata": {},
      "source": [
        "### Delete Project\nDelete the project if it already exists.\n\n"
      ]
    },
    {
      "cell_type": "code",
      "execution_count": null,
      "metadata": {
        "collapsed": false
      },
      "outputs": [],
      "source": [
        "try:\n    sherlock.project.delete_project(\"Test\")\n    print(\"Project deleted successfully.\")\nexcept Exception:\n    pass"
      ]
    },
    {
      "cell_type": "markdown",
      "metadata": {},
      "source": [
        "### Import Tutorial Project\nImport the tutorial project zip archive from the Sherlock tutorial directory.\n\n"
      ]
    },
    {
      "cell_type": "code",
      "execution_count": null,
      "metadata": {
        "collapsed": false
      },
      "outputs": [],
      "source": [
        "try:\n    sherlock.project.import_project_zip_archive(\n        project=\"Test\",\n        category=\"Demos\",\n        archive_file=os.path.join(get_sherlock_tutorial_path(), \"Auto Relay Project.zip\"),\n    )\n    print(\"Tutorial project imported successfully.\")\nexcept SherlockImportProjectZipArchiveError as e:\n    print(f\"Error importing project zip archive: {e}\")"
      ]
    },
    {
      "cell_type": "markdown",
      "metadata": {},
      "source": [
        "### Update Random Vibration Properties\nConfigure random vibration properties for the PCB.\n\n"
      ]
    },
    {
      "cell_type": "code",
      "execution_count": null,
      "metadata": {
        "collapsed": false
      },
      "outputs": [],
      "source": [
        "try:\n    sherlock.analysis.update_random_vibe_props(\n        project=\"Test\",\n        cca_name=\"Auto Relay\",\n        random_vibe_damping=\"0.01, 0.03\",\n        part_validation_enabled=False,\n        require_material_assignment_enabled=False,\n        model_source=\"GENERATED\",\n    )\n    print(\"Random vibration properties updated successfully.\")\nexcept SherlockUpdateRandomVibePropsError as e:\n    print(f\"Error updating random vibration properties: {e}\")"
      ]
    }
  ],
  "metadata": {
    "kernelspec": {
      "display_name": "Python 3",
      "language": "python",
      "name": "python3"
    },
    "language_info": {
      "codemirror_mode": {
        "name": "ipython",
        "version": 3
      },
      "file_extension": ".py",
      "mimetype": "text/x-python",
      "name": "python",
      "nbconvert_exporter": "python",
      "pygments_lexer": "ipython3",
      "version": "3.13.1"
    }
  },
  "nbformat": 4,
  "nbformat_minor": 0
}