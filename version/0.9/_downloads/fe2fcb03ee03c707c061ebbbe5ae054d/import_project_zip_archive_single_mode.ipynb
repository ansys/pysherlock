{
  "cells": [
    {
      "cell_type": "markdown",
      "metadata": {},
      "source": [
        "\n\n# Sherlock Project Import in Single Mode\n\nThis example demonstrates how to launch the Sherlock gRPC service in single-project mode,\nimport a project, and handle common exceptions during the import process.\n\nDescription\nSherlock's gRPC API enables automation of various workflows, including project management.\nThis script demonstrates how to:\n- Connect to the Sherlock service in single-project mode.\n- Import a sample project archive.\n- Handle import errors gracefully.\n"
      ]
    },
    {
      "cell_type": "code",
      "execution_count": null,
      "metadata": {
        "collapsed": false
      },
      "outputs": [],
      "source": [
        "import os\n\nfrom examples.examples_globals import (\n    get_sherlock_tutorial_path,\n    get_temp_dir,\n    store_sherlock_tutorial_path,\n)\n\nfrom ansys.sherlock.core import launcher\nfrom ansys.sherlock.core.errors import SherlockImportProjectZipArchiveSingleModeError"
      ]
    },
    {
      "cell_type": "markdown",
      "metadata": {},
      "source": [
        "## Launch PySherlock service in single-project mode\nLaunch the Sherlock service using the specified project path and wait for initialization.\n\n"
      ]
    },
    {
      "cell_type": "code",
      "execution_count": null,
      "metadata": {
        "collapsed": false
      },
      "outputs": [],
      "source": [
        "sherlock, ansys_install_path = launcher.launch_and_connect(\n    port=9093,\n    single_project_path=os.getcwd(),\n    # sherlock_command_args=\"-noGUI\",\n)\nstore_sherlock_tutorial_path(ansys_install_path)"
      ]
    },
    {
      "cell_type": "markdown",
      "metadata": {},
      "source": [
        "## Import Sherlock Project in Single Mode\nImport a tutorial project ZIP archive provided with the Sherlock installation.\n\n"
      ]
    },
    {
      "cell_type": "code",
      "execution_count": null,
      "metadata": {
        "collapsed": false
      },
      "outputs": [],
      "source": [
        "try:\n    sherlock.project.import_project_zip_archive_single_mode(\n        project=\"Test\",\n        category=\"Demos\",\n        archive_file=os.path.join(get_sherlock_tutorial_path(), \"Auto Relay Project.zip\"),\n        destination_file_directory=get_temp_dir(),\n    )\n    print(\"Tutorial project imported successfully.\")\nexcept SherlockImportProjectZipArchiveSingleModeError as e:\n    print(f\"Error importing project: {e}\")"
      ]
    },
    {
      "cell_type": "markdown",
      "metadata": {},
      "source": [
        "## Exit Sherlock\nExit the gRPC connection and shut down Sherlock.\n\n"
      ]
    },
    {
      "cell_type": "code",
      "execution_count": null,
      "metadata": {
        "collapsed": false
      },
      "outputs": [],
      "source": [
        "sherlock.common.exit(True)"
      ]
    }
  ],
  "metadata": {
    "kernelspec": {
      "display_name": "Python 3",
      "language": "python",
      "name": "python3"
    },
    "language_info": {
      "codemirror_mode": {
        "name": "ipython",
        "version": 3
      },
      "file_extension": ".py",
      "mimetype": "text/x-python",
      "name": "python",
      "nbconvert_exporter": "python",
      "pygments_lexer": "ipython3",
      "version": "3.13.1"
    }
  },
  "nbformat": 4,
  "nbformat_minor": 0
}