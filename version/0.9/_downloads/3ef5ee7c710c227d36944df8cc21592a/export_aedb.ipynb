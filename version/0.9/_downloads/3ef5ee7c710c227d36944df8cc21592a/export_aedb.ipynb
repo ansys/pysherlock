{
  "cells": [
    {
      "cell_type": "markdown",
      "metadata": {},
      "source": [
        "\n\n# Export AEDB\n\nThis example demonstrates how to connect to the Sherlock gRPC service, import a project,\nand export an AEDB file for a CCA.\n\n## Description\nSherlock's gRPC API allows users to automate workflows such as exporting an AEDB file for a CCA.\nThis script demonstrates how to:\n\n- Connect to the Sherlock service.\n- Import a project.\n- Export an AEDB file.\n\nThe exported AEDB file can be used for further analysis or integration with other software tools.\n"
      ]
    },
    {
      "cell_type": "code",
      "execution_count": null,
      "metadata": {
        "collapsed": false
      },
      "outputs": [],
      "source": [
        "import os\n\nfrom examples.examples_globals import get_sherlock_tutorial_path, get_temp_dir\n\nfrom ansys.sherlock.core import launcher\nfrom ansys.sherlock.core.errors import SherlockExportAEDBError, SherlockImportProjectZipArchiveError"
      ]
    },
    {
      "cell_type": "markdown",
      "metadata": {},
      "source": [
        "### Connect to Sherlock\nConnect to the Sherlock service and ensure proper initialization.\n\n"
      ]
    },
    {
      "cell_type": "code",
      "execution_count": null,
      "metadata": {
        "collapsed": false
      },
      "outputs": [],
      "source": [
        "sherlock = launcher.connect(port=9092, timeout=10)"
      ]
    },
    {
      "cell_type": "markdown",
      "metadata": {},
      "source": [
        "### Delete Project\nDelete the project if it already exists.\n\n"
      ]
    },
    {
      "cell_type": "code",
      "execution_count": null,
      "metadata": {
        "collapsed": false
      },
      "outputs": [],
      "source": [
        "try:\n    sherlock.project.delete_project(\"Test\")\n    print(\"Project deleted successfully.\")\nexcept Exception:\n    pass"
      ]
    },
    {
      "cell_type": "markdown",
      "metadata": {},
      "source": [
        "### Import Tutorial Project\nImport the tutorial project zip archive from the Sherlock tutorial directory.\n\n"
      ]
    },
    {
      "cell_type": "code",
      "execution_count": null,
      "metadata": {
        "collapsed": false
      },
      "outputs": [],
      "source": [
        "try:\n    sherlock.project.import_project_zip_archive(\n        project=\"Test\",\n        category=\"Demos\",\n        archive_file=os.path.join(get_sherlock_tutorial_path(), \"Auto Relay Project.zip\"),\n    )\n    print(\"Tutorial project imported successfully.\")\nexcept SherlockImportProjectZipArchiveError as e:\n    print(f\"Error importing project zip archive: {e}\")"
      ]
    },
    {
      "cell_type": "markdown",
      "metadata": {},
      "source": [
        "### Export AEDB File\nExport the AEDB file for the \"Card\" of the \"Test\" project to the specified path.\n\n"
      ]
    },
    {
      "cell_type": "code",
      "execution_count": null,
      "metadata": {
        "collapsed": false
      },
      "outputs": [],
      "source": [
        "try:\n    aedb_export_path = os.path.join(get_temp_dir(), \"test.aedb\")\n    sherlock.model.export_aedb(\n        project_name=\"Test\",\n        cca_name=\"Auto Relay\",\n        export_file=aedb_export_path,\n    )\n    print(f\"AEDB file exported successfully to: {aedb_export_path}\")\nexcept SherlockExportAEDBError as e:\n    print(f\"Error exporting AEDB: {e}\")"
      ]
    }
  ],
  "metadata": {
    "kernelspec": {
      "display_name": "Python 3",
      "language": "python",
      "name": "python3"
    },
    "language_info": {
      "codemirror_mode": {
        "name": "ipython",
        "version": 3
      },
      "file_extension": ".py",
      "mimetype": "text/x-python",
      "name": "python",
      "nbconvert_exporter": "python",
      "pygments_lexer": "ipython3",
      "version": "3.13.1"
    }
  },
  "nbformat": 4,
  "nbformat_minor": 0
}