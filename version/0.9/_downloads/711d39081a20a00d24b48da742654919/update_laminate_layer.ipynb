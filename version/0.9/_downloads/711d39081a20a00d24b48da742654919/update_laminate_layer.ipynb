{
  "cells": [
    {
      "cell_type": "markdown",
      "metadata": {},
      "source": [
        "\n\n# Update Laminate Layer Properties\n\nThis example demonstrates how to connect to the Sherlock gRPC service, import a project,\nand update laminate layer properties.\n\n## Description\nSherlock's gRPC API allows users to automate workflows such as updating laminate layer\nproperties for printed circuit boards (PCBs).\nThis script demonstrates how to:\n\n- Connect to the Sherlock service.\n- Import a project.\n- Update laminate layer properties.\n\nThe updated properties can be used for further design validation and optimization.\n"
      ]
    },
    {
      "cell_type": "code",
      "execution_count": null,
      "metadata": {
        "collapsed": false
      },
      "outputs": [],
      "source": [
        "import os\n\nfrom examples.examples_globals import get_sherlock_tutorial_path\n\nfrom ansys.sherlock.core import launcher\nfrom ansys.sherlock.core.errors import (\n    SherlockImportProjectZipArchiveError,\n    SherlockUpdateLaminateLayerError,\n)"
      ]
    },
    {
      "cell_type": "markdown",
      "metadata": {},
      "source": [
        "### Connect to Sherlock\nConnect to the Sherlock service and ensure proper initialization.\n\n"
      ]
    },
    {
      "cell_type": "code",
      "execution_count": null,
      "metadata": {
        "collapsed": false
      },
      "outputs": [],
      "source": [
        "sherlock = launcher.connect(port=9092, timeout=10)"
      ]
    },
    {
      "cell_type": "markdown",
      "metadata": {},
      "source": [
        "### Delete Project\nDelete the project if it already exists.\n\n"
      ]
    },
    {
      "cell_type": "code",
      "execution_count": null,
      "metadata": {
        "collapsed": false
      },
      "outputs": [],
      "source": [
        "try:\n    sherlock.project.delete_project(\"Test\")\n    print(\"Project deleted successfully.\")\nexcept Exception:\n    pass"
      ]
    },
    {
      "cell_type": "markdown",
      "metadata": {},
      "source": [
        "### Import Tutorial Project\nImport the tutorial project zip archive from the Sherlock tutorial directory.\n\n"
      ]
    },
    {
      "cell_type": "code",
      "execution_count": null,
      "metadata": {
        "collapsed": false
      },
      "outputs": [],
      "source": [
        "try:\n    sherlock.project.import_project_zip_archive(\n        project=\"Test\",\n        category=\"Demos\",\n        archive_file=os.path.join(get_sherlock_tutorial_path(), \"Auto Relay Project.zip\"),\n    )\n    print(\"Tutorial project imported successfully.\")\nexcept SherlockImportProjectZipArchiveError as e:\n    print(f\"Error importing project zip archive: {e}\")"
      ]
    },
    {
      "cell_type": "markdown",
      "metadata": {},
      "source": [
        "### Update Laminate Layer Properties\nUpdate the laminate layer properties for the \"Main Board\" of the \"Test\" project.\n\n"
      ]
    },
    {
      "cell_type": "code",
      "execution_count": null,
      "metadata": {
        "collapsed": false
      },
      "outputs": [],
      "source": [
        "try:\n    sherlock.stackup.update_laminate_layer(\n        project=\"Test\",\n        cca_name=\"Auto Relay\",\n        layer=\"2\",\n        manufacturer=\"Generic\",\n        grade=\"Cyanate Ester\",\n        material=\"Generic CE Quartz\",\n        thickness=0.015,\n        thickness_unit=\"in\",\n        construction_style=\"106\",\n        glass_construction=[(\"106\", 71.0, 0.015, \"in\")],\n        fiber_material=\"QUARTZ\",\n        conductor_material=\"GOLD\",\n        conductor_percent=\"10.0\",\n    )\n\n    print(\"Laminate layer properties updated successfully.\")\nexcept SherlockUpdateLaminateLayerError as e:\n    print(f\"Error updating laminate layer properties: {e}\")"
      ]
    }
  ],
  "metadata": {
    "kernelspec": {
      "display_name": "Python 3",
      "language": "python",
      "name": "python3"
    },
    "language_info": {
      "codemirror_mode": {
        "name": "ipython",
        "version": 3
      },
      "file_extension": ".py",
      "mimetype": "text/x-python",
      "name": "python",
      "nbconvert_exporter": "python",
      "pygments_lexer": "ipython3",
      "version": "3.13.1"
    }
  },
  "nbformat": 4,
  "nbformat_minor": 0
}