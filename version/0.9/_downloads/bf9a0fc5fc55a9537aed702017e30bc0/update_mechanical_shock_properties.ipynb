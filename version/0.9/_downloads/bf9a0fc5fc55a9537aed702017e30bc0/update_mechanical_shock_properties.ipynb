{
  "cells": [
    {
      "cell_type": "markdown",
      "metadata": {},
      "source": [
        "\n\n# Run Mechanical Shock Analysis\n\nThis example demonstrates how to connect to the Sherlock gRPC service, import a project,\nand configure mechanical shock analysis properties.\n\n## Description\nSherlock allows you to perform mechanical shock analysis.\nThis script performs the following steps:\n- Connect to the Sherlock service.\n- Import a project.\n- Configure the properties for mechanical shock analysis.\n"
      ]
    },
    {
      "cell_type": "code",
      "execution_count": null,
      "metadata": {
        "collapsed": false
      },
      "outputs": [],
      "source": [
        "\"\"\"\nsphinx_gallery_thumbnail_path =\n'./images/sherlock_update_mechanical_shock_analysis_props_example.png'\n\"\"\"\n\nimport os\n\nfrom examples.examples_globals import get_sherlock_tutorial_path\n\nfrom ansys.sherlock.core import launcher\nfrom ansys.sherlock.core.errors import (\n    SherlockImportProjectZipArchiveError,\n    SherlockUpdateMechanicalShockPropsError,\n)\nfrom ansys.sherlock.core.types.analysis_types import ModelSource"
      ]
    },
    {
      "cell_type": "markdown",
      "metadata": {},
      "source": [
        "### Connect to Sherlock\nConnect to the Sherlock service and ensure proper initialization.\n\n"
      ]
    },
    {
      "cell_type": "code",
      "execution_count": null,
      "metadata": {
        "collapsed": false
      },
      "outputs": [],
      "source": [
        "sherlock = launcher.connect(port=9092, timeout=10)"
      ]
    },
    {
      "cell_type": "markdown",
      "metadata": {},
      "source": [
        "### Delete Project\nDelete the project if it already exists.\n\n"
      ]
    },
    {
      "cell_type": "code",
      "execution_count": null,
      "metadata": {
        "collapsed": false
      },
      "outputs": [],
      "source": [
        "try:\n    sherlock.project.delete_project(\"Test\")\n    print(\"Project deleted successfully.\")\nexcept Exception:\n    pass"
      ]
    },
    {
      "cell_type": "markdown",
      "metadata": {},
      "source": [
        "### Import Tutorial Project\nImport the tutorial project zip archive from the Sherlock tutorial directory.\n\n"
      ]
    },
    {
      "cell_type": "code",
      "execution_count": null,
      "metadata": {
        "collapsed": false
      },
      "outputs": [],
      "source": [
        "try:\n    sherlock.project.import_project_zip_archive(\n        project=\"Test\",\n        category=\"Demos\",\n        archive_file=os.path.join(get_sherlock_tutorial_path(), \"Auto Relay Project.zip\"),\n    )\n    print(\"Tutorial project imported successfully.\")\nexcept SherlockImportProjectZipArchiveError as e:\n    print(f\"Error importing project zip archive: {e}\")"
      ]
    },
    {
      "cell_type": "markdown",
      "metadata": {},
      "source": [
        "### Update Mechanical Shock Properties\nConfigure properties for mechanical shock analysis.\n\n"
      ]
    },
    {
      "cell_type": "code",
      "execution_count": null,
      "metadata": {
        "collapsed": false
      },
      "outputs": [],
      "source": [
        "try:\n    # Update properties for mechanical shock analysis\n    sherlock.analysis.update_mechanical_shock_props(\n        project=\"Test\",\n        mechanical_shock_properties=[\n            {\n                \"cca_name\": \"Auto Relay\",\n                \"model_source\": ModelSource.GENERATED,\n                \"shock_result_count\": 3,\n                \"critical_shock_strain\": 5,\n                \"critical_shock_strain_units\": \"strain\",\n                \"part_validation_enabled\": True,\n                \"require_material_assignment_enabled\": False,\n                \"force_model_rebuild\": \"AUTO\",\n                \"natural_freq_min\": 5,\n                \"natural_freq_min_units\": \"Hz\",\n                \"natural_freq_max\": 50,\n                \"natural_freq_max_units\": \"KHz\",\n                \"analysis_temp\": 100,\n                \"analysis_temp_units\": \"F\",\n            }\n        ],\n    )\n    print(\"Mechanical shock properties updated successfully.\")\nexcept SherlockUpdateMechanicalShockPropsError as e:\n    print(f\"Error updating mechanical shock properties: {e}\")"
      ]
    }
  ],
  "metadata": {
    "kernelspec": {
      "display_name": "Python 3",
      "language": "python",
      "name": "python3"
    },
    "language_info": {
      "codemirror_mode": {
        "name": "ipython",
        "version": 3
      },
      "file_extension": ".py",
      "mimetype": "text/x-python",
      "name": "python",
      "nbconvert_exporter": "python",
      "pygments_lexer": "ipython3",
      "version": "3.13.1"
    }
  },
  "nbformat": 4,
  "nbformat_minor": 0
}