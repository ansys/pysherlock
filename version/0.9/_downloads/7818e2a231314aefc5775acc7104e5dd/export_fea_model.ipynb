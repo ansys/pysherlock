{
  "cells": [
    {
      "cell_type": "markdown",
      "metadata": {},
      "source": [
        "\n\n# Export FEA Model\n\nThis example demonstrates how to connect to the Sherlock gRPC service, import a project,\nand export a Finite Element Analysis (FEA) model.\n\nDescription\nSherlock's gRPC API enables automation of various workflows, including exporting FEA models.\nThis script demonstrates how to:\n- Connect to the Sherlock service.\n- Import a tutorial project.\n- Export an FEA model with specific parameters.\n"
      ]
    },
    {
      "cell_type": "code",
      "execution_count": null,
      "metadata": {
        "collapsed": false
      },
      "outputs": [],
      "source": [
        "import os\n\nfrom examples.examples_globals import get_sherlock_tutorial_path, get_temp_dir\n\nfrom ansys.sherlock.core import launcher\nfrom ansys.sherlock.core.errors import (\n    SherlockExportFEAModelError,\n    SherlockImportProjectZipArchiveError,\n)\nfrom ansys.sherlock.core.types.common_types import Measurement"
      ]
    },
    {
      "cell_type": "markdown",
      "metadata": {},
      "source": [
        "## Connect to Sherlock\nConnect to the Sherlock service and ensure proper initialization.\n\n"
      ]
    },
    {
      "cell_type": "code",
      "execution_count": null,
      "metadata": {
        "collapsed": false
      },
      "outputs": [],
      "source": [
        "sherlock = launcher.connect(port=9092, timeout=10)"
      ]
    },
    {
      "cell_type": "markdown",
      "metadata": {},
      "source": [
        "## Delete Project\nDelete the project if it already exists.\n\n"
      ]
    },
    {
      "cell_type": "code",
      "execution_count": null,
      "metadata": {
        "collapsed": false
      },
      "outputs": [],
      "source": [
        "try:\n    sherlock.project.delete_project(\"Test\")\n    print(\"Project deleted successfully.\")\nexcept Exception:\n    pass"
      ]
    },
    {
      "cell_type": "markdown",
      "metadata": {},
      "source": [
        "## Import Tutorial Project\nImport the tutorial project zip archive provided with the Sherlock installation.\n\n"
      ]
    },
    {
      "cell_type": "code",
      "execution_count": null,
      "metadata": {
        "collapsed": false
      },
      "outputs": [],
      "source": [
        "try:\n    sherlock.project.import_project_zip_archive(\n        project=\"Test\",\n        category=\"Demos\",\n        archive_file=os.path.join(get_sherlock_tutorial_path(), \"Tutorial Project.zip\"),\n    )\n    print(\"Tutorial project imported successfully.\")\nexcept SherlockImportProjectZipArchiveError as e:\n    print(f\"Error importing project zip archive: {e}\")"
      ]
    },
    {
      "cell_type": "markdown",
      "metadata": {},
      "source": [
        "## Export FEA Model\nExport the FEA model with customized parameters.\n\n"
      ]
    },
    {
      "cell_type": "code",
      "execution_count": null,
      "metadata": {
        "collapsed": false
      },
      "outputs": [],
      "source": [
        "try:\n    fea_export_path = os.path.join(get_temp_dir(), \"export.wbjn\")\n    sherlock.model.export_FEA_model(\n        project=\"Test\",\n        cca_name=\"Main Board\",\n        export_file=fea_export_path,\n        analysis=\"NaturalFreq\",\n        drill_hole_parameters=[\n            {\n                \"drill_hole_modeling\": \"ENABLED\",\n                \"min_hole_diameter\": Measurement(value=1.0, unit=\"mm\"),\n                \"max_edge_length\": Measurement(value=1.0, unit=\"mm\"),\n            }\n        ],\n        detect_lead_modeling=\"ENABLED\",\n        lead_model_parameters=[\n            {\n                \"lead_modeling\": \"ENABLED\",\n                \"lead_element_order\": \"First Order (Linear)\",\n                \"max_mesh_size\": Measurement(value=1.0, unit=\"mm\"),\n                \"vertical_mesh_size\": Measurement(value=0.5, unit=\"mm\"),\n                \"thicknessCount\": 3,\n                \"aspectRatio\": 2,\n            }\n        ],\n        display_model=False,\n        clear_FEA_database=True,\n        use_FEA_model_id=True,\n        coordinate_units=\"mm\",\n    )\n    print(f\"FEA model exported successfully to: {fea_export_path}\")\nexcept SherlockExportFEAModelError as e:\n    print(f\"Error exporting FEA model: {e}\")"
      ]
    }
  ],
  "metadata": {
    "kernelspec": {
      "display_name": "Python 3",
      "language": "python",
      "name": "python3"
    },
    "language_info": {
      "codemirror_mode": {
        "name": "ipython",
        "version": 3
      },
      "file_extension": ".py",
      "mimetype": "text/x-python",
      "name": "python",
      "nbconvert_exporter": "python",
      "pygments_lexer": "ipython3",
      "version": "3.13.1"
    }
  },
  "nbformat": 4,
  "nbformat_minor": 0
}