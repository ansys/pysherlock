{
  "cells": [
    {
      "cell_type": "markdown",
      "metadata": {},
      "source": [
        "\n\n# Add Potting Regions for PCB Analysis\n\nThis example demonstrates how to use the Sherlock gRPC service to:\n- Import a project.\n- Add potting regions to a PCB model.\n- Define potting shapes and properties.\n\n## Description\nThis script connects to the Sherlock gRPC service, imports a project,\nand creates potting regions.\n"
      ]
    },
    {
      "cell_type": "code",
      "execution_count": null,
      "metadata": {
        "collapsed": false
      },
      "outputs": [],
      "source": [
        "import os\n\nfrom examples.examples_globals import get_sherlock_tutorial_path\n\nfrom ansys.sherlock.core import launcher\nfrom ansys.sherlock.core.errors import (\n    SherlockAddPottingRegionError,\n    SherlockImportProjectZipArchiveError,\n)\nfrom ansys.sherlock.core.types.layer_types import PolygonalShape"
      ]
    },
    {
      "cell_type": "markdown",
      "metadata": {},
      "source": [
        "### Connect to Sherlock\nConnect to the Sherlock service and ensure proper initialization.\n\n"
      ]
    },
    {
      "cell_type": "code",
      "execution_count": null,
      "metadata": {
        "collapsed": false
      },
      "outputs": [],
      "source": [
        "sherlock = launcher.connect(port=9092, timeout=10)"
      ]
    },
    {
      "cell_type": "markdown",
      "metadata": {},
      "source": [
        "### Delete Project\nDelete the project if it already exists.\n\n"
      ]
    },
    {
      "cell_type": "code",
      "execution_count": null,
      "metadata": {
        "collapsed": false
      },
      "outputs": [],
      "source": [
        "try:\n    sherlock.project.delete_project(\"Test\")\n    print(\"Project deleted successfully.\")\nexcept Exception:\n    pass"
      ]
    },
    {
      "cell_type": "markdown",
      "metadata": {},
      "source": [
        "### Import Tutorial Project\nImport the tutorial project zip archive from the Sherlock tutorial directory.\n\n"
      ]
    },
    {
      "cell_type": "code",
      "execution_count": null,
      "metadata": {
        "collapsed": false
      },
      "outputs": [],
      "source": [
        "try:\n    sherlock.project.import_project_zip_archive(\n        project=\"Test\",\n        category=\"Demos\",\n        archive_file=os.path.join(get_sherlock_tutorial_path(), \"Auto Relay Project.zip\"),\n    )\n    print(\"Tutorial project imported successfully.\")\nexcept SherlockImportProjectZipArchiveError as e:\n    print(f\"Error importing project zip archive: {e}\")"
      ]
    },
    {
      "cell_type": "markdown",
      "metadata": {},
      "source": [
        "### Add Potting Region\nDefine a polygonal shape and add it as a potting region to the PCB.\n\n"
      ]
    },
    {
      "cell_type": "code",
      "execution_count": null,
      "metadata": {
        "collapsed": false
      },
      "outputs": [],
      "source": [
        "try:\n    # Define the polygonal shape for the potting region\n    polygonal_shape = PolygonalShape(points=[(0, 0), (0, 6.35), (9.77, 0)], rotation=87.8)\n\n    # Add the potting region\n    sherlock.layer.add_potting_region(\n        project=\"Test\",\n        potting_regions=[\n            {\n                \"cca_name\": \"Auto Relay\",\n                \"potting_id\": \"Test Region\",\n                \"side\": \"TOP\",\n                \"material\": \"epoxyencapsulant\",\n                \"potting_units\": \"in\",\n                \"thickness\": 0.1,\n                \"standoff\": 0.2,\n                \"shape\": polygonal_shape,\n            }\n        ],\n    )\n    print(\"Potting region added successfully.\")\nexcept SherlockAddPottingRegionError as e:\n    print(f\"Error adding potting region: {e}\")"
      ]
    }
  ],
  "metadata": {
    "kernelspec": {
      "display_name": "Python 3",
      "language": "python",
      "name": "python3"
    },
    "language_info": {
      "codemirror_mode": {
        "name": "ipython",
        "version": 3
      },
      "file_extension": ".py",
      "mimetype": "text/x-python",
      "name": "python",
      "nbconvert_exporter": "python",
      "pygments_lexer": "ipython3",
      "version": "3.13.1"
    }
  },
  "nbformat": 4,
  "nbformat_minor": 0
}