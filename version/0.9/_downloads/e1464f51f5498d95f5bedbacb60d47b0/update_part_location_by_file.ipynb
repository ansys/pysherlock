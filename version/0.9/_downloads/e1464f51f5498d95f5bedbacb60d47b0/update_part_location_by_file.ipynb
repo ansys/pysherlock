{
  "cells": [
    {
      "cell_type": "markdown",
      "metadata": {},
      "source": [
        "\n\n# Update Part Locations by File\n\nThis example demonstrates how to connect to the Sherlock gRPC service, import a project,\nand update part locations using a CSV file.\n\n## Description\nSherlock's gRPC API allows users to automate workflows such as updating part\nlocations for printed circuit boards (PCBs) using a CSV file.\nThis script demonstrates how to:\n- Connect to the Sherlock service.\n- Import a project.\n- Update part locations using a CSV file.\n\nThe updated part locations can ensure consistency across various PCB designs.\n"
      ]
    },
    {
      "cell_type": "code",
      "execution_count": null,
      "metadata": {
        "collapsed": false
      },
      "outputs": [],
      "source": [
        "import os\n\nfrom examples.examples_globals import get_sherlock_tutorial_path\n\nfrom ansys.sherlock.core import launcher\nfrom ansys.sherlock.core.errors import (\n    SherlockImportProjectZipArchiveError,\n    SherlockUpdatePartsLocationsByFileError,\n)"
      ]
    },
    {
      "cell_type": "markdown",
      "metadata": {},
      "source": [
        "### Connect to Sherlock\nConnect to the Sherlock service and ensure proper initialization.\n\n"
      ]
    },
    {
      "cell_type": "code",
      "execution_count": null,
      "metadata": {
        "collapsed": false
      },
      "outputs": [],
      "source": [
        "sherlock = launcher.connect(port=9092, timeout=10)"
      ]
    },
    {
      "cell_type": "markdown",
      "metadata": {},
      "source": [
        "### Delete Project\nDelete the project if it already exists.\n\n"
      ]
    },
    {
      "cell_type": "code",
      "execution_count": null,
      "metadata": {
        "collapsed": false
      },
      "outputs": [],
      "source": [
        "try:\n    sherlock.project.delete_project(\"Test\")\n    print(\"Project deleted successfully.\")\nexcept Exception:\n    pass"
      ]
    },
    {
      "cell_type": "markdown",
      "metadata": {},
      "source": [
        "### Import Tutorial Project\nImport the tutorial project zip archive from the Sherlock tutorial directory.\n\n"
      ]
    },
    {
      "cell_type": "code",
      "execution_count": null,
      "metadata": {
        "collapsed": false
      },
      "outputs": [],
      "source": [
        "try:\n    sherlock.project.import_project_zip_archive(\n        project=\"Test\",\n        category=\"Demos\",\n        archive_file=os.path.join(get_sherlock_tutorial_path(), \"Tutorial Project.zip\"),\n    )\n    print(\"Tutorial project imported successfully.\")\nexcept SherlockImportProjectZipArchiveError as e:\n    print(f\"Error importing project zip archive: {e}\")"
      ]
    },
    {
      "cell_type": "markdown",
      "metadata": {},
      "source": [
        "### Update Part Locations by File\nUpdate the part locations for the \"Card\" of the \"Test\" project using a CSV file.\n\n"
      ]
    },
    {
      "cell_type": "code",
      "execution_count": null,
      "metadata": {
        "collapsed": false
      },
      "outputs": [],
      "source": [
        "csv_file_path = os.path.join(os.getcwd(), \"partslist.csv\")\n\ntry:\n    sherlock.parts.update_parts_locations_by_file(\n        project=\"Test\",\n        cca_name=\"Main Board\",\n        file_path=csv_file_path,\n        numeric_format=\"JAPANESE\",\n    )\n    print(\"Part locations updated successfully using the CSV file.\")\nexcept SherlockUpdatePartsLocationsByFileError as e:\n    print(f\"Error updating part locations by file: {e}\")"
      ]
    }
  ],
  "metadata": {
    "kernelspec": {
      "display_name": "Python 3",
      "language": "python",
      "name": "python3"
    },
    "language_info": {
      "codemirror_mode": {
        "name": "ipython",
        "version": 3
      },
      "file_extension": ".py",
      "mimetype": "text/x-python",
      "name": "python",
      "nbconvert_exporter": "python",
      "pygments_lexer": "ipython3",
      "version": "3.13.1"
    }
  },
  "nbformat": 4,
  "nbformat_minor": 0
}