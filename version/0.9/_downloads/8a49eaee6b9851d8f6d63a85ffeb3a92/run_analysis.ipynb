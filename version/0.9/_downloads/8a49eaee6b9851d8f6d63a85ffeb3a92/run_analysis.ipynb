{
  "cells": [
    {
      "cell_type": "markdown",
      "metadata": {},
      "source": [
        "\n\n# Run Advanced Analysis\n\nThis example demonstrates how to connect to the Sherlock gRPC service, import a project,\nand run various analyses on a project, including part validation, natural frequency,\nthermal derating, and more.\n\n## Description\nSherlock provides the ability to perform various types of analyses on a project.\nThis script demonstrates how to:\n- Connect to the Sherlock service.\n- Import a project into Sherlock.\n- Run several types of analyses, such as part validation, mechanical shock, harmonic vibration,\nand others.\n"
      ]
    },
    {
      "cell_type": "code",
      "execution_count": null,
      "metadata": {
        "collapsed": false
      },
      "outputs": [],
      "source": [
        "import os\n\nfrom examples.examples_globals import get_sherlock_tutorial_path\n\nfrom ansys.sherlock.core import launcher\nfrom ansys.sherlock.core.errors import (\n    SherlockImportProjectZipArchiveError,\n    SherlockRunAnalysisError,\n)\nfrom ansys.sherlock.core.types.analysis_types import RunAnalysisRequestAnalysisType"
      ]
    },
    {
      "cell_type": "markdown",
      "metadata": {},
      "source": [
        "### Connect to Sherlock\nConnect to the Sherlock service and ensure proper initialization.\n\n"
      ]
    },
    {
      "cell_type": "code",
      "execution_count": null,
      "metadata": {
        "collapsed": false
      },
      "outputs": [],
      "source": [
        "sherlock = launcher.connect(port=9092, timeout=10)"
      ]
    },
    {
      "cell_type": "markdown",
      "metadata": {},
      "source": [
        "### Delete Project\nDelete the project if it already exists.\n\n"
      ]
    },
    {
      "cell_type": "code",
      "execution_count": null,
      "metadata": {
        "collapsed": false
      },
      "outputs": [],
      "source": [
        "try:\n    sherlock.project.delete_project(\"Test\")\n    print(\"Project deleted successfully.\")\nexcept Exception:\n    pass"
      ]
    },
    {
      "cell_type": "markdown",
      "metadata": {},
      "source": [
        "### Import Tutorial Project\nImport the tutorial project zip archive from the Sherlock tutorial directory.\n\n"
      ]
    },
    {
      "cell_type": "code",
      "execution_count": null,
      "metadata": {
        "collapsed": false
      },
      "outputs": [],
      "source": [
        "try:\n    sherlock.project.import_project_zip_archive(\n        project=\"Test\",\n        category=\"Demos\",\n        archive_file=os.path.join(get_sherlock_tutorial_path(), \"Auto Relay Project.zip\"),\n    )\n    print(\"Tutorial project imported successfully.\")\nexcept SherlockImportProjectZipArchiveError as e:\n    print(f\"Error importing project zip archive: {e}\")"
      ]
    },
    {
      "cell_type": "markdown",
      "metadata": {},
      "source": [
        "### Run Multiple Analyses\nRun various types of analyses on the \"Main Board\" in the \"Tutorial Project\".\n\n"
      ]
    },
    {
      "cell_type": "code",
      "execution_count": null,
      "metadata": {
        "collapsed": false
      },
      "outputs": [],
      "source": [
        "try:\n    # Run analyses\n\n    analysis_types = [\n        (RunAnalysisRequestAnalysisType.PTH_FATIQUE, [(\"Phase 1\", [\"Thermal Event\"])]),\n        (\n            RunAnalysisRequestAnalysisType.SEMICINDUCTOR_WEAROUT,\n            [(\"Phase 1\", [\"Thermal Event\"])],\n        ),\n        (RunAnalysisRequestAnalysisType.THERMAL_DERATING, [(\"Phase 1\", [\"Thermal Event\"])]),\n        (\n            RunAnalysisRequestAnalysisType.COMPONENT_FAILURE_MODE,\n            [(\"Phase 1\", [\"Thermal Event\"])],\n        ),\n    ]\n\n    for analysis_type, params in analysis_types:\n        sherlock.analysis.run_analysis(\n            project=\"Test\", cca_name=\"Auto Relay\", analyses=[(analysis_type, params)]\n        )\n\nexcept SherlockRunAnalysisError as e:\n    print(f\"Error running analysis: {e}\")"
      ]
    }
  ],
  "metadata": {
    "kernelspec": {
      "display_name": "Python 3",
      "language": "python",
      "name": "python3"
    },
    "language_info": {
      "codemirror_mode": {
        "name": "ipython",
        "version": 3
      },
      "file_extension": ".py",
      "mimetype": "text/x-python",
      "name": "python",
      "nbconvert_exporter": "python",
      "pygments_lexer": "ipython3",
      "version": "3.13.1"
    }
  },
  "nbformat": 4,
  "nbformat_minor": 0
}