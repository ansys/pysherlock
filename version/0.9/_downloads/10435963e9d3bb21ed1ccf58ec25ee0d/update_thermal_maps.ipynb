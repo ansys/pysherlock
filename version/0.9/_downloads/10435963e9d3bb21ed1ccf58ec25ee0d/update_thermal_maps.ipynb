{
  "cells": [
    {
      "cell_type": "markdown",
      "metadata": {},
      "source": [
        "\n\n# Update Thermal Maps\n\nThis example demonstrates how to connect to the Sherlock gRPC service, import a project,\nand update thermal maps.\n\n## Description\nSherlock's gRPC API allows users to automate workflows such as updating thermal maps for printed\ncircuit boards (PCBs).\nThis script demonstrates how to:\n- Connect to the Sherlock service.\n- Import a project.\n- Update thermal maps.\n\nThe updated thermal maps ensure the accuracy of thermal profiles and board configurations.\n"
      ]
    },
    {
      "cell_type": "code",
      "execution_count": null,
      "metadata": {
        "collapsed": false
      },
      "outputs": [],
      "source": [
        "import os\n\nfrom examples.examples_globals import get_sherlock_tutorial_path\n\nfrom ansys.sherlock.core import launcher\nfrom ansys.sherlock.core.errors import SherlockImportProjectZipArchiveError\nfrom ansys.sherlock.core.types.project_types import (\n    BoardBounds,\n    ImageBounds,\n    ImageFile,\n    LegendBounds,\n    LegendOrientation,\n    ThermalBoardSide,\n    ThermalMapsFileType,\n)"
      ]
    },
    {
      "cell_type": "markdown",
      "metadata": {},
      "source": [
        "### Connect to Sherlock\nConnect to the Sherlock service and ensure proper initialization.\n\n"
      ]
    },
    {
      "cell_type": "code",
      "execution_count": null,
      "metadata": {
        "collapsed": false
      },
      "outputs": [],
      "source": [
        "sherlock = launcher.connect(port=9092, timeout=10)"
      ]
    },
    {
      "cell_type": "markdown",
      "metadata": {},
      "source": [
        "### Delete Project\nDelete the project if it already exists.\n\n"
      ]
    },
    {
      "cell_type": "code",
      "execution_count": null,
      "metadata": {
        "collapsed": false
      },
      "outputs": [],
      "source": [
        "try:\n    sherlock.project.delete_project(\"Test\")\n    print(\"Project deleted successfully.\")\nexcept Exception:\n    pass"
      ]
    },
    {
      "cell_type": "markdown",
      "metadata": {},
      "source": [
        "### Import Tutorial Project\nImport the tutorial project zip archive from the Sherlock tutorial directory.\n\n"
      ]
    },
    {
      "cell_type": "code",
      "execution_count": null,
      "metadata": {
        "collapsed": false
      },
      "outputs": [],
      "source": [
        "try:\n    sherlock.project.import_project_zip_archive(\n        project=\"Test\",\n        category=\"Demos\",\n        archive_file=os.path.join(get_sherlock_tutorial_path(), \"Tutorial Project.zip\"),\n    )\n    print(\"Tutorial project imported successfully.\")\nexcept SherlockImportProjectZipArchiveError as e:\n    print(f\"Error importing project zip archive: {e}\")"
      ]
    },
    {
      "cell_type": "markdown",
      "metadata": {},
      "source": [
        "### Update Thermal Maps\nUpdate the thermal maps for the \"Tutorial Project\".\n\n"
      ]
    },
    {
      "cell_type": "code",
      "execution_count": null,
      "metadata": {
        "collapsed": false
      },
      "outputs": [],
      "source": [
        "try:\n    thermal_map_properties = ImageFile(\n        board_bounds=BoardBounds([(1.0, 2.0), (5.0, 1.0), (5.0, 5.0), (1.0, 5.0)]),\n        coordinate_units=\"mm\",\n        image_bounds=ImageBounds(-95, -57, 114, 290),\n        legend_bounds=LegendBounds(1.0, 2.0, 4.0, 2.0),\n        legend_orientation=LegendOrientation.VERTICAL,\n        min_temperature=17.0,\n        min_temperature_units=\"C\",\n        max_temperature=90.0,\n        max_temperature_units=\"C\",\n    )\n\n    add_thermal_map_files = [\n        {\n            \"thermal_map_file\": os.path.join(\n                get_sherlock_tutorial_path(), \"ThermalMaps\", \"Thermal Image.jpg\"\n            ),\n            \"thermal_map_file_properties\": [\n                {\n                    \"file_name\": \"Thermal Image.jpg\",\n                    \"file_type\": ThermalMapsFileType.IMAGE,\n                    \"file_comment\": \"Update thermal map\",\n                    \"thermal_board_side\": ThermalBoardSide.BOTH,\n                    \"file_data\": thermal_map_properties,\n                    \"thermal_profiles\": [\"Environmental/1 - Temp Cycle - Min\"],\n                    \"cca_names\": [\"Main Board\"],\n                },\n            ],\n        }\n    ]\n    sherlock.project.add_thermal_maps(\n        project=\"Test\",\n        add_thermal_map_files=add_thermal_map_files,\n    )\n\n    thermal_map_files = [\n        {\n            \"file_name\": \"Thermal Image.jpg\",\n            \"file_type\": ThermalMapsFileType.IMAGE,\n            \"file_comment\": \"Update thermal map\",\n            \"thermal_board_side\": ThermalBoardSide.TOP,\n            \"file_data\": thermal_map_properties,\n            \"thermal_profiles\": [\"Environmental/1 - Temp Cycle - Max\"],\n            \"cca_names\": [\"Main Board\"],\n        },\n    ]\n    sherlock.project.update_thermal_maps(\n        project=\"Test\",\n        thermal_map_files=thermal_map_files,\n    )\n\n    print(\"Thermal maps updated successfully.\")\nexcept Exception as e:\n    print(f\"Error adding or updating thermal maps\")"
      ]
    }
  ],
  "metadata": {
    "kernelspec": {
      "display_name": "Python 3",
      "language": "python",
      "name": "python3"
    },
    "language_info": {
      "codemirror_mode": {
        "name": "ipython",
        "version": 3
      },
      "file_extension": ".py",
      "mimetype": "text/x-python",
      "name": "python",
      "nbconvert_exporter": "python",
      "pygments_lexer": "ipython3",
      "version": "3.13.1"
    }
  },
  "nbformat": 4,
  "nbformat_minor": 0
}