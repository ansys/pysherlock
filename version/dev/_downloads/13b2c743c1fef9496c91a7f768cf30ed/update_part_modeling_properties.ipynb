{
  "cells": [
    {
      "cell_type": "markdown",
      "metadata": {},
      "source": [
        "\n\n# Update Part Modeling Properties\n\nThis example demonstrates how to connect to the Sherlock gRPC service, import a project,\nand update part modeling properties.\n\n## Description\nSherlock's gRPC API allows users to automate workflows such as updating part\nmodeling properties for printed circuit boards (PCBs).\nThis script demonstrates how to:\n- Connect to the Sherlock service.\n- Import a project.\n- Update part modeling properties.\n\nThe updated properties ensure accurate simulation results for mechanical and thermal analyses.\n"
      ]
    },
    {
      "cell_type": "code",
      "execution_count": null,
      "metadata": {
        "collapsed": false
      },
      "outputs": [],
      "source": [
        "import os\n\nfrom examples.examples_globals import get_sherlock_tutorial_path\n\nfrom ansys.sherlock.core import launcher\nfrom ansys.sherlock.core.errors import (\n    SherlockImportProjectZipArchiveError,\n    SherlockUpdatePartModelingPropsError,\n)"
      ]
    },
    {
      "cell_type": "markdown",
      "metadata": {},
      "source": [
        "### Connect to Sherlock\nConnect to the Sherlock service and ensure proper initialization.\n\n"
      ]
    },
    {
      "cell_type": "code",
      "execution_count": null,
      "metadata": {
        "collapsed": false
      },
      "outputs": [],
      "source": [
        "sherlock = launcher.connect(port=9092, timeout=10)"
      ]
    },
    {
      "cell_type": "markdown",
      "metadata": {},
      "source": [
        "### Delete Project\nDelete the project if it already exists.\n\n"
      ]
    },
    {
      "cell_type": "code",
      "execution_count": null,
      "metadata": {
        "collapsed": false
      },
      "outputs": [],
      "source": [
        "try:\n    sherlock.project.delete_project(\"Test\")\n    print(\"Project deleted successfully.\")\nexcept Exception:\n    pass"
      ]
    },
    {
      "cell_type": "markdown",
      "metadata": {},
      "source": [
        "### Import Tutorial Project\nImport the tutorial project zip archive from the Sherlock tutorial directory.\n\n"
      ]
    },
    {
      "cell_type": "code",
      "execution_count": null,
      "metadata": {
        "collapsed": false
      },
      "outputs": [],
      "source": [
        "try:\n    sherlock.project.import_project_zip_archive(\n        project=\"Test\",\n        category=\"Demos\",\n        archive_file=os.path.join(get_sherlock_tutorial_path(), \"Tutorial Project.zip\"),\n    )\n    print(\"Tutorial project imported successfully.\")\nexcept SherlockImportProjectZipArchiveError as e:\n    print(f\"Error importing project zip archive: {e}\")"
      ]
    },
    {
      "cell_type": "markdown",
      "metadata": {},
      "source": [
        "### Update Part Modeling Properties\nUpdate the part modeling properties for the \"Card\" of the \"Test\" project.\n\n"
      ]
    },
    {
      "cell_type": "code",
      "execution_count": null,
      "metadata": {
        "collapsed": false
      },
      "outputs": [],
      "source": [
        "try:\n    modeling_props = {\n        \"cca_name\": \"Main Board\",\n        \"part_enabled\": True,\n        \"part_min_size\": 1,\n        \"part_min_size_units\": \"in\",\n        \"part_elem_order\": \"First Order (Linear)\",\n        \"part_max_edge_length\": 1,\n        \"part_max_edge_length_units\": \"in\",\n        \"part_max_vertical\": 1,\n        \"part_max_vertical_units\": \"in\",\n        \"part_results_filtered\": True,\n    }\n    sherlock.analysis.update_part_modeling_props(\n        project=\"Test\",\n        part_modeling_props=modeling_props,\n    )\n    print(\"Part modeling properties updated successfully.\")\nexcept SherlockUpdatePartModelingPropsError as e:\n    print(f\"Error updating part modeling properties: {e}\")"
      ]
    }
  ],
  "metadata": {
    "kernelspec": {
      "display_name": "Python 3",
      "language": "python",
      "name": "python3"
    },
    "language_info": {
      "codemirror_mode": {
        "name": "ipython",
        "version": 3
      },
      "file_extension": ".py",
      "mimetype": "text/x-python",
      "name": "python",
      "nbconvert_exporter": "python",
      "pygments_lexer": "ipython3",
      "version": "3.13.1"
    }
  },
  "nbformat": 4,
  "nbformat_minor": 0
}