{
  "cells": [
    {
      "cell_type": "markdown",
      "metadata": {},
      "source": [
        "\n\n# Get Random Vibration Analysis inputs\n\nThis example demonstrates how to connect to the Sherlock gRPC service, import a project,\nand retrieve the analysis input fields.\n\n## Description\nSherlock provides the ability to run a random vibration analysis using its gRPC interface.\nThis script demonstrates how to:\n- Connect to the Sherlock service.\n- Retrieve the input fields required for random vibration analysis.\n\nThis example assumes you have already set up Sherlock and the necessary environment.\n\nFor more details on vibration analysis in Sherlock, refer to the official documentation.\n"
      ]
    },
    {
      "cell_type": "code",
      "execution_count": null,
      "metadata": {
        "collapsed": false
      },
      "outputs": [],
      "source": [
        "from ansys.sherlock.core import launcher"
      ]
    },
    {
      "cell_type": "markdown",
      "metadata": {},
      "source": [
        "### Connect to Sherlock\nConnect to the Sherlock service and ensure proper initialization.\n\n"
      ]
    },
    {
      "cell_type": "code",
      "execution_count": null,
      "metadata": {
        "collapsed": false
      },
      "outputs": [],
      "source": [
        "sherlock = launcher.connect(port=9092, timeout=10)"
      ]
    },
    {
      "cell_type": "markdown",
      "metadata": {},
      "source": [
        "### Get Random Vibration Input Fields\nRetrieve the list of input fields for the random vibration analysis.\n\n"
      ]
    },
    {
      "cell_type": "code",
      "execution_count": null,
      "metadata": {
        "collapsed": false
      },
      "outputs": [],
      "source": [
        "try:\n    random_vibe_input_fields = sherlock.analysis.get_random_vibe_input_fields()\n    print(\"Random vibration analysis input fields:\")\n    print(random_vibe_input_fields)\nexcept Exception as e:\n    print(f\"Error retrieving random vibration input fields: {e}\")"
      ]
    }
  ],
  "metadata": {
    "kernelspec": {
      "display_name": "Python 3",
      "language": "python",
      "name": "python3"
    },
    "language_info": {
      "codemirror_mode": {
        "name": "ipython",
        "version": 3
      },
      "file_extension": ".py",
      "mimetype": "text/x-python",
      "name": "python",
      "nbconvert_exporter": "python",
      "pygments_lexer": "ipython3",
      "version": "3.13.1"
    }
  },
  "nbformat": 4,
  "nbformat_minor": 0
}