{
  "cells": [
    {
      "cell_type": "markdown",
      "metadata": {},
      "source": [
        "\n\n# Import ODB++ Archive\n\nThis example demonstrates how to launch the Sherlock gRPC service, import an ODB++ archive,\nand handle common exceptions during the import process.\n\nDescription\nSherlock's gRPC API enables automation of various workflows, including importing ODB++ archives.\nThis script demonstrates how to:\n- Connect to the Sherlock service.\n- Import an ODB++ archive.\n- Handle import errors gracefully.\n"
      ]
    },
    {
      "cell_type": "code",
      "execution_count": null,
      "metadata": {
        "collapsed": false
      },
      "outputs": [],
      "source": [
        "import os\n\nfrom examples.examples_globals import get_sherlock_tutorial_path\n\nfrom ansys.sherlock.core import launcher\nfrom ansys.sherlock.core.errors import SherlockImportODBError"
      ]
    },
    {
      "cell_type": "markdown",
      "metadata": {},
      "source": [
        "## Connect to Sherlock\nConnect to the Sherlock service and ensure proper initialization.\n\n"
      ]
    },
    {
      "cell_type": "code",
      "execution_count": null,
      "metadata": {
        "collapsed": false
      },
      "outputs": [],
      "source": [
        "sherlock = launcher.connect(port=9092, timeout=10)"
      ]
    },
    {
      "cell_type": "markdown",
      "metadata": {},
      "source": [
        "## Delete Project\nDelete the project if it already exists.\n\n"
      ]
    },
    {
      "cell_type": "code",
      "execution_count": null,
      "metadata": {
        "collapsed": false
      },
      "outputs": [],
      "source": [
        "try:\n    sherlock.project.delete_project(\"Test\")\n    print(\"Project deleted successfully.\")\nexcept Exception:\n    pass"
      ]
    },
    {
      "cell_type": "markdown",
      "metadata": {},
      "source": [
        "## Import ODB++ Archive\nImport an ODB++ archive provided with the Sherlock installation.\n\n"
      ]
    },
    {
      "cell_type": "code",
      "execution_count": null,
      "metadata": {
        "collapsed": false
      },
      "outputs": [],
      "source": [
        "try:\n    odb_path = os.path.join(get_sherlock_tutorial_path(), \"ODB++ Tutorial.tgz\")\n    sherlock.project.import_odb_archive(\n        archive_file=odb_path,\n        process_layer_thickness=True,\n        include_other_layers=True,\n        process_cutout_file=True,\n        guess_part_properties=True,\n        ims_stackup=True,\n        project=\"Test\",\n        cca_name=\"Card\",\n    )\n    print(\"ODB++ archive imported successfully.\")\nexcept SherlockImportODBError as e:\n    print(f\"Error importing ODB++ archive: {e}\")"
      ]
    }
  ],
  "metadata": {
    "kernelspec": {
      "display_name": "Python 3",
      "language": "python",
      "name": "python3"
    },
    "language_info": {
      "codemirror_mode": {
        "name": "ipython",
        "version": 3
      },
      "file_extension": ".py",
      "mimetype": "text/x-python",
      "name": "python",
      "nbconvert_exporter": "python",
      "pygments_lexer": "ipython3",
      "version": "3.13.1"
    }
  },
  "nbformat": 4,
  "nbformat_minor": 0
}