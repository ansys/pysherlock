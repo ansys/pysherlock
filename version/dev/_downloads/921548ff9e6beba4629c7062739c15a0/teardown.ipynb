{
  "cells": [
    {
      "cell_type": "markdown",
      "metadata": {},
      "source": [
        "\n\n# Teardown\n\nThis restores the environment after running the examples.\n\n## Description\nPerform the following steps to set up the environment:\n- Connect to Sherlock\n- Exit Sherlock\n- Delete temp files\n"
      ]
    },
    {
      "cell_type": "code",
      "execution_count": null,
      "metadata": {
        "collapsed": false
      },
      "outputs": [],
      "source": [
        "import shutil\n\nfrom examples.examples_globals import get_temp_dir\n\nfrom ansys.sherlock.core import LOG, launcher"
      ]
    },
    {
      "cell_type": "markdown",
      "metadata": {},
      "source": [
        "### Exit Sherlock\nExit the gRPC connection and shut down Sherlock.\n\n"
      ]
    },
    {
      "cell_type": "code",
      "execution_count": null,
      "metadata": {
        "collapsed": false
      },
      "outputs": [],
      "source": [
        "LOG.info(\"Teardown: connect to and exit Sherlock\")\ntry:\n    sherlock = launcher.connect(port=9092, timeout=2)\n    sherlock.common.exit(True)\n    LOG.info(\"Sherlock exited successfully.\")\nexcept Exception as e:\n    LOG.error(f\"Error exiting Sherlock: {e}\")"
      ]
    },
    {
      "cell_type": "markdown",
      "metadata": {},
      "source": [
        "### Clean temporary directory\nDelete the directory for storing temp files.\n\n"
      ]
    },
    {
      "cell_type": "code",
      "execution_count": null,
      "metadata": {
        "collapsed": false
      },
      "outputs": [],
      "source": [
        "try:\n    shutil.rmtree(get_temp_dir(), ignore_errors=True)\nexcept Exception as e:\n    LOG.error(f\"Error deleting temporary directory: {e}\")"
      ]
    }
  ],
  "metadata": {
    "kernelspec": {
      "display_name": "Python 3",
      "language": "python",
      "name": "python3"
    },
    "language_info": {
      "codemirror_mode": {
        "name": "ipython",
        "version": 3
      },
      "file_extension": ".py",
      "mimetype": "text/x-python",
      "name": "python",
      "nbconvert_exporter": "python",
      "pygments_lexer": "ipython3",
      "version": "3.13.1"
    }
  },
  "nbformat": 4,
  "nbformat_minor": 0
}