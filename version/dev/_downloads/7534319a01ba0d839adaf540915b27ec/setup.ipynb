{
  "cells": [
    {
      "cell_type": "markdown",
      "metadata": {},
      "source": [
        "\n\n# Setup\n\nThis prepares the environment for running the examples.\n\n## Description\nPerform the following steps to set up the environment:\n- Launch Sherlock.\n- Store the Sherlock tutorial path.\n"
      ]
    },
    {
      "cell_type": "code",
      "execution_count": null,
      "metadata": {
        "collapsed": false
      },
      "outputs": [],
      "source": [
        "import os\nimport sys\n\n# Add the 'examples' directory to the Python path to allow importing files in that directory.\nsys.path.append(os.path.dirname(os.path.dirname(os.path.abspath(os.getcwd()))))\n\nfrom examples.examples_globals import store_sherlock_tutorial_path\n\nfrom ansys.sherlock.core import launcher"
      ]
    },
    {
      "cell_type": "markdown",
      "metadata": {},
      "source": [
        "### Launch Sherlock\nLaunch the Sherlock service and ensure proper initialization.\n\n"
      ]
    },
    {
      "cell_type": "code",
      "execution_count": null,
      "metadata": {
        "collapsed": false
      },
      "outputs": [],
      "source": [
        "sherlock, ansys_install_path = launcher.launch_and_connect(\n    port=9092,\n    # sherlock_command_args=\"-noGUI\",\n)\n\nstore_sherlock_tutorial_path(ansys_install_path)"
      ]
    }
  ],
  "metadata": {
    "kernelspec": {
      "display_name": "Python 3",
      "language": "python",
      "name": "python3"
    },
    "language_info": {
      "codemirror_mode": {
        "name": "ipython",
        "version": 3
      },
      "file_extension": ".py",
      "mimetype": "text/x-python",
      "name": "python",
      "nbconvert_exporter": "python",
      "pygments_lexer": "ipython3",
      "version": "3.13.1"
    }
  },
  "nbformat": 4,
  "nbformat_minor": 0
}