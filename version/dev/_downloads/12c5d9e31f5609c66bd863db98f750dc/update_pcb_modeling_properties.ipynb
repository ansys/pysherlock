{
  "cells": [
    {
      "cell_type": "markdown",
      "metadata": {},
      "source": [
        "\n\n# Update PCB Modeling Properties\n\nThis example demonstrates how to connect to the Sherlock gRPC service, import a project,\nand configure PCB modeling properties for various analysis types.\n\n## Description\nSherlock allows you to configure PCB modeling properties for multiple analysis types.\nThis script performs the following steps:\n- Connect to the Sherlock service.\n- Import a project.\n- Configure PCB modeling properties for several analysis types.\n"
      ]
    },
    {
      "cell_type": "code",
      "execution_count": null,
      "metadata": {
        "collapsed": false
      },
      "outputs": [],
      "source": [
        "import os\n\nfrom examples.examples_globals import get_sherlock_tutorial_path\n\nfrom ansys.sherlock.core import launcher\nfrom ansys.sherlock.core.errors import (\n    SherlockImportProjectZipArchiveError,\n    SherlockUpdatePcbModelingPropsError,\n)\nfrom ansys.sherlock.core.types.analysis_types import (\n    ElementOrder,\n    UpdatePcbModelingPropsRequestAnalysisType,\n    UpdatePcbModelingPropsRequestPcbMaterialModel,\n    UpdatePcbModelingPropsRequestPcbModelType,\n)"
      ]
    },
    {
      "cell_type": "markdown",
      "metadata": {},
      "source": [
        "### Connect to Sherlock\nConnect to the Sherlock service and ensure proper initialization.\n\n"
      ]
    },
    {
      "cell_type": "code",
      "execution_count": null,
      "metadata": {
        "collapsed": false
      },
      "outputs": [],
      "source": [
        "sherlock = launcher.connect(port=9092, timeout=10)"
      ]
    },
    {
      "cell_type": "markdown",
      "metadata": {},
      "source": [
        "### Delete Project\nDelete the project if it already exists.\n\n"
      ]
    },
    {
      "cell_type": "code",
      "execution_count": null,
      "metadata": {
        "collapsed": false
      },
      "outputs": [],
      "source": [
        "try:\n    sherlock.project.delete_project(\"Test\")\n    print(\"Project deleted successfully.\")\nexcept Exception:\n    pass"
      ]
    },
    {
      "cell_type": "markdown",
      "metadata": {},
      "source": [
        "### Import Tutorial Project\nImport the tutorial project zip archive from the Sherlock tutorial directory.\n\n"
      ]
    },
    {
      "cell_type": "code",
      "execution_count": null,
      "metadata": {
        "collapsed": false
      },
      "outputs": [],
      "source": [
        "try:\n    sherlock.project.import_project_zip_archive(\n        project=\"Test\",\n        category=\"Demos\",\n        archive_file=os.path.join(get_sherlock_tutorial_path(), \"Auto Relay Project.zip\"),\n    )\n    print(\"Tutorial project imported successfully.\")\nexcept SherlockImportProjectZipArchiveError as e:\n    print(f\"Error importing project zip archive: {e}\")"
      ]
    },
    {
      "cell_type": "markdown",
      "metadata": {},
      "source": [
        "### Update PCB Modeling Properties\nConfigure PCB modeling properties for various analysis types.\n\n"
      ]
    },
    {
      "cell_type": "code",
      "execution_count": null,
      "metadata": {
        "collapsed": false
      },
      "outputs": [],
      "source": [
        "try:\n    sherlock.analysis.update_pcb_modeling_props(\n        project=\"Test\",\n        cca_names=[\"Auto Relay\"],\n        analyses=[\n            (\n                UpdatePcbModelingPropsRequestAnalysisType.HARMONIC_VIBE,\n                UpdatePcbModelingPropsRequestPcbModelType.BONDED,\n                True,\n                UpdatePcbModelingPropsRequestPcbMaterialModel.UNIFORM,\n                ElementOrder.SOLID_SHELL,\n                6,\n                \"mm\",\n                3,\n                \"mm\",\n                True,\n            )\n        ],\n    )\n    sherlock.analysis.update_pcb_modeling_props(\n        project=\"Test\",\n        cca_names=[\"Auto Relay\"],\n        analyses=[\n            (\n                UpdatePcbModelingPropsRequestAnalysisType.NATURAL_FREQUENCY,\n                UpdatePcbModelingPropsRequestPcbModelType.BONDED,\n                True,\n                UpdatePcbModelingPropsRequestPcbMaterialModel.UNIFORM,\n                ElementOrder.SOLID_SHELL,\n                6,\n                \"mm\",\n                3,\n                \"mm\",\n                True,\n            )\n        ],\n    )\n    sherlock.analysis.update_pcb_modeling_props(\n        project=\"Test\",\n        cca_names=[\"Auto Relay\"],\n        analyses=[\n            (\n                UpdatePcbModelingPropsRequestAnalysisType.ICT,\n                UpdatePcbModelingPropsRequestPcbModelType.BONDED,\n                True,\n                UpdatePcbModelingPropsRequestPcbMaterialModel.UNIFORM,\n                ElementOrder.SOLID_SHELL,\n                6,\n                \"mm\",\n                3,\n                \"mm\",\n                True,\n            )\n        ],\n    )\n    sherlock.analysis.update_pcb_modeling_props(\n        project=\"Test\",\n        cca_names=[\"Auto Relay\"],\n        analyses=[\n            (\n                UpdatePcbModelingPropsRequestAnalysisType.MECHANICAL_SHOCK,\n                UpdatePcbModelingPropsRequestPcbModelType.BONDED,\n                True,\n                UpdatePcbModelingPropsRequestPcbMaterialModel.LAYERED,\n                ElementOrder.SOLID_SHELL,\n                6,\n                \"mm\",\n                3,\n                \"mm\",\n                True,\n            )\n        ],\n    )\n    sherlock.analysis.update_pcb_modeling_props(\n        project=\"Test\",\n        cca_names=[\"Auto Relay\"],\n        analyses=[\n            (\n                UpdatePcbModelingPropsRequestAnalysisType.RANDOM_VIBE,\n                UpdatePcbModelingPropsRequestPcbModelType.BONDED,\n                True,\n                UpdatePcbModelingPropsRequestPcbMaterialModel.LAYERED_ELEMENTS,\n                5,\n                ElementOrder.SOLID_SHELL,\n                6,\n                \"mm\",\n                3,\n                \"mm\",\n                True,\n            )\n        ],\n    )\n    sherlock.analysis.update_pcb_modeling_props(\n        project=\"Test\",\n        cca_names=[\"Auto Relay\"],\n        analyses=[\n            (\n                UpdatePcbModelingPropsRequestAnalysisType.THERMAL_MECH,\n                UpdatePcbModelingPropsRequestPcbModelType.BONDED,\n                True,\n                UpdatePcbModelingPropsRequestPcbMaterialModel.UNIFORM_ELEMENTS,\n                5,\n                ElementOrder.SOLID_SHELL,\n                6,\n                \"mm\",\n                3,\n                \"mm\",\n                True,\n            )\n        ],\n    )\n    print(\"PCB modeling properties updated successfully.\")\nexcept SherlockUpdatePcbModelingPropsError as e:\n    print(f\"Error updating PCB modeling properties: {e}\")"
      ]
    }
  ],
  "metadata": {
    "kernelspec": {
      "display_name": "Python 3",
      "language": "python",
      "name": "python3"
    },
    "language_info": {
      "codemirror_mode": {
        "name": "ipython",
        "version": 3
      },
      "file_extension": ".py",
      "mimetype": "text/x-python",
      "name": "python",
      "nbconvert_exporter": "python",
      "pygments_lexer": "ipython3",
      "version": "3.13.1"
    }
  },
  "nbformat": 4,
  "nbformat_minor": 0
}