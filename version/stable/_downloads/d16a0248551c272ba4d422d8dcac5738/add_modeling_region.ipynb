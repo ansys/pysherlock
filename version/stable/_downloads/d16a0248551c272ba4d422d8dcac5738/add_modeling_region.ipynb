{
  "cells": [
    {
      "cell_type": "markdown",
      "metadata": {},
      "source": [
        "\n\n# Add Modeling Regions for PCB Analysis\n\nThis example demonstrates how to use the Sherlock gRPC service to:\n- Import a project.\n- Add modeling regions to a PCB model.\n- Define different region shapes like polygonal, rectangular, circular, and slot shapes.\n- Configure PCB and trace model properties for simulation.\n\n## Description\nConnect to the Sherlock gRPC service, import a project,\nand create modeling regions with different shapes for a PCB analysis. The script\nshows how to configure the modeling region shapes, PCB modeling properties, and trace\nmodeling properties for each region.\n"
      ]
    },
    {
      "cell_type": "code",
      "execution_count": null,
      "metadata": {
        "collapsed": false
      },
      "outputs": [],
      "source": [
        "import os\n\nfrom examples.examples_globals import get_sherlock_tutorial_path\n\nfrom ansys.sherlock.core import launcher\nfrom ansys.sherlock.core.errors import (\n    SherlockAddModelingRegionError,\n    SherlockImportProjectZipArchiveError,\n)\nfrom ansys.sherlock.core.types.layer_types import (\n    CircularShape,\n    PolygonalShape,\n    RectangularShape,\n    SlotShape,\n)"
      ]
    },
    {
      "cell_type": "markdown",
      "metadata": {},
      "source": [
        "### Connect to Sherlock\nConnect to the Sherlock service and ensure proper initialization.\n\n"
      ]
    },
    {
      "cell_type": "code",
      "execution_count": null,
      "metadata": {
        "collapsed": false
      },
      "outputs": [],
      "source": [
        "sherlock = launcher.connect(port=9092, timeout=10)"
      ]
    },
    {
      "cell_type": "markdown",
      "metadata": {},
      "source": [
        "### Delete Project\nDelete the project if it already exists.\n\n"
      ]
    },
    {
      "cell_type": "code",
      "execution_count": null,
      "metadata": {
        "collapsed": false
      },
      "outputs": [],
      "source": [
        "try:\n    sherlock.project.delete_project(\"Test\")\n    print(\"Project deleted successfully.\")\nexcept Exception:\n    pass"
      ]
    },
    {
      "cell_type": "markdown",
      "metadata": {},
      "source": [
        "### Import Tutorial Project\nImport the tutorial project zip archive from the Sherlock tutorial directory.\n\n"
      ]
    },
    {
      "cell_type": "code",
      "execution_count": null,
      "metadata": {
        "collapsed": false
      },
      "outputs": [],
      "source": [
        "try:\n    sherlock.project.import_project_zip_archive(\n        project=\"Test\",\n        category=\"Demos\",\n        archive_file=os.path.join(get_sherlock_tutorial_path(), \"Auto Relay Project.zip\"),\n    )\n    print(\"Tutorial project imported successfully.\")\nexcept SherlockImportProjectZipArchiveError as e:\n    print(f\"Error importing project zip archive: {e}\")"
      ]
    },
    {
      "cell_type": "markdown",
      "metadata": {},
      "source": [
        "### Create Modeling Regions\nDefine different shapes (polygonal, rectangular, circular, and slot) for modeling regions.\n\n"
      ]
    },
    {
      "cell_type": "code",
      "execution_count": null,
      "metadata": {
        "collapsed": false
      },
      "outputs": [],
      "source": [
        "try:\n    # Define coordinates and dimensions\n    U9_x = 0.0  # X-Coordinate in mm.\n    U9_y = 19.05  # Y-Coordinate in mm.\n    U9_package_length = 27.0  # Package Length in mm.\n    U9_package_width = 27.0  # Package Width in mm.\n    tolerance = 2.0  # Dimension Tolerance in mm.\n\n    x_min = U9_x - (U9_package_width / 2) - tolerance\n    x_max = U9_x + (U9_package_width / 2) + tolerance\n    y_min = U9_y - (U9_package_length / 2) - tolerance\n    y_max = U9_y + (U9_package_length / 2) + tolerance\n\n    # Define the region shapes\n    polygonal_shape = PolygonalShape(points=[(0, 0), (0, 6.35), (9.77, 0)], rotation=87.8)\n    rectangular_shape = RectangularShape(\n        length=U9_package_length, width=U9_package_width, center_x=U9_x, center_y=U9_y, rotation=0.0\n    )\n    slot_shape = SlotShape(\n        length=5.0, width=5.0, node_count=6, center_x=U9_x, center_y=U9_y, rotation=0.0\n    )\n    circular_shape = CircularShape(\n        diameter=5.0, node_count=4, center_x=0.0, center_y=0.0, rotation=30.0\n    )\n\n    # Create the modeling regions\n    modeling_regions = [\n        {\n            \"cca_name\": \"Auto Relay\",\n            \"region_id\": \"Region001\",\n            \"region_units\": \"mm\",\n            \"model_mode\": \"Enabled\",\n            \"shape\": polygonal_shape,\n            \"pcb_model_props\": {\n                \"export_model_type\": \"Sherlock\",\n                \"elem_order\": \"First_Order\",\n                \"max_mesh_size\": 0.5,\n                \"max_mesh_size_units\": \"mm\",\n                \"quads_preferred\": True,\n            },\n            \"trace_model_props\": {\n                \"trace_model_type\": \"Enabled\",\n                \"elem_order\": \"Second_Order\",\n                \"trace_mesh_size\": 0.3,\n                \"trace_mesh_size_units\": \"mm\",\n            },\n        },\n        {\n            \"cca_name\": \"Auto Relay\",\n            \"region_id\": \"Region002\",\n            \"region_units\": \"mm\",\n            \"model_mode\": \"Enabled\",\n            \"shape\": rectangular_shape,\n            \"pcb_model_props\": {\n                \"export_model_type\": \"Sherlock\",\n                \"elem_order\": \"First_Order\",\n                \"max_mesh_size\": 0.5,\n                \"max_mesh_size_units\": \"mm\",\n                \"quads_preferred\": True,\n            },\n            \"trace_model_props\": {\n                \"trace_model_type\": \"Enabled\",\n                \"elem_order\": \"Second_Order\",\n                \"trace_mesh_size\": 0.3,\n                \"trace_mesh_size_units\": \"mm\",\n            },\n        },\n        {\n            \"cca_name\": \"Auto Relay\",\n            \"region_id\": \"Region003\",\n            \"region_units\": \"mm\",\n            \"model_mode\": \"Enabled\",\n            \"shape\": circular_shape,\n            \"pcb_model_props\": {\n                \"export_model_type\": \"Sherlock\",\n                \"elem_order\": \"First_Order\",\n                \"max_mesh_size\": 0.5,\n                \"max_mesh_size_units\": \"mm\",\n                \"quads_preferred\": True,\n            },\n            \"trace_model_props\": {\n                \"trace_model_type\": \"Enabled\",\n                \"elem_order\": \"Second_Order\",\n                \"trace_mesh_size\": 0.3,\n                \"trace_mesh_size_units\": \"mm\",\n            },\n        },\n        {\n            \"cca_name\": \"Auto Relay\",\n            \"region_id\": \"Region004\",\n            \"region_units\": \"mm\",\n            \"model_mode\": \"Enabled\",\n            \"shape\": slot_shape,\n            \"pcb_model_props\": {\n                \"export_model_type\": \"Sherlock\",\n                \"elem_order\": \"First_Order\",\n                \"max_mesh_size\": 0.5,\n                \"max_mesh_size_units\": \"mm\",\n                \"quads_preferred\": True,\n            },\n            \"trace_model_props\": {\n                \"trace_model_type\": \"Enabled\",\n                \"elem_order\": \"Second_Order\",\n                \"trace_mesh_size\": 0.3,\n                \"trace_mesh_size_units\": \"mm\",\n            },\n        },\n    ]\n\n    # Add modeling regions to the project\n    sherlock.layer.add_modeling_region(\"Test\", modeling_regions)\n    print(\"Modeling regions added successfully.\")\nexcept SherlockAddModelingRegionError as e:\n    print(f\"Error adding modeling regions: {e}\")"
      ]
    }
  ],
  "metadata": {
    "kernelspec": {
      "display_name": "Python 3",
      "language": "python",
      "name": "python3"
    },
    "language_info": {
      "codemirror_mode": {
        "name": "ipython",
        "version": 3
      },
      "file_extension": ".py",
      "mimetype": "text/x-python",
      "name": "python",
      "nbconvert_exporter": "python",
      "pygments_lexer": "ipython3",
      "version": "3.13.1"
    }
  },
  "nbformat": 4,
  "nbformat_minor": 0
}