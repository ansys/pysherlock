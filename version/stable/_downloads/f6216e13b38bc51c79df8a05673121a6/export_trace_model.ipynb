{
  "cells": [
    {
      "cell_type": "markdown",
      "metadata": {},
      "source": [
        "\n\n# Sherlock Trace Model Export\n\nThis example demonstrates how to connect to the Sherlock gRPC service, import a project,\ngenerate export parameters for copper layers, and export a trace model.\n\nDescription\nSherlock's gRPC API enables automation of various workflows, including trace model exports.\nThis script demonstrates how to:\n- Connect to the Sherlock service.\n- Import a tutorial project ZIP archive.\n- Generate copper layer parameters for trace model export.\n- Export a trace model with multiple copper layers.\n"
      ]
    },
    {
      "cell_type": "code",
      "execution_count": null,
      "metadata": {
        "collapsed": false
      },
      "outputs": [],
      "source": [
        "import os\n\nfrom ansys.api.sherlock.v0 import SherlockAnalysisService_pb2, SherlockModelService_pb2\nfrom examples.examples_globals import get_sherlock_tutorial_path, get_temp_dir\n\nfrom ansys.sherlock.core import launcher\nfrom ansys.sherlock.core.errors import (\n    SherlockImportProjectZipArchiveError,\n    SherlockModelServiceError,\n)"
      ]
    },
    {
      "cell_type": "markdown",
      "metadata": {},
      "source": [
        "## Connect to Sherlock\nConnect to the Sherlock service and ensure proper initialization.\n\n"
      ]
    },
    {
      "cell_type": "code",
      "execution_count": null,
      "metadata": {
        "collapsed": false
      },
      "outputs": [],
      "source": [
        "sherlock = launcher.connect(port=9092, timeout=10)"
      ]
    },
    {
      "cell_type": "markdown",
      "metadata": {},
      "source": [
        "## Delete Project\nDelete the project if it already exists.\n\n"
      ]
    },
    {
      "cell_type": "code",
      "execution_count": null,
      "metadata": {
        "collapsed": false
      },
      "outputs": [],
      "source": [
        "try:\n    sherlock.project.delete_project(\"Test\")\n    print(\"Project deleted successfully.\")\nexcept Exception:\n    pass"
      ]
    },
    {
      "cell_type": "markdown",
      "metadata": {},
      "source": [
        "## Import Tutorial Project\nImport a sample project ZIP archive provided with the Sherlock installation.\n\n"
      ]
    },
    {
      "cell_type": "code",
      "execution_count": null,
      "metadata": {
        "collapsed": false
      },
      "outputs": [],
      "source": [
        "try:\n    sherlock.project.import_project_zip_archive(\n        project=\"Test\",\n        category=\"Demos\",\n        archive_file=os.path.join(get_sherlock_tutorial_path(), \"Auto Relay Project.zip\"),\n    )\n    print(\"Tutorial project imported successfully.\")\nexcept SherlockImportProjectZipArchiveError as e:\n    print(f\"Error importing project: {e}\")"
      ]
    },
    {
      "cell_type": "markdown",
      "metadata": {},
      "source": [
        "## Export Trace Model\nExport a trace model.\n\n"
      ]
    },
    {
      "cell_type": "code",
      "execution_count": null,
      "metadata": {
        "collapsed": false
      },
      "outputs": [],
      "source": [
        "try:\n    copper_1_layer = sherlock.model.createExportTraceCopperLayerParams(\n        project_name=\"Test\",\n        cca_name=\"Auto Relay\",\n        output_file_path=os.path.join(get_temp_dir(), \"outputfile_path.stp\"),\n        copper_layer=\"AutoRelayBot.gbr\",\n        overwrite=True,\n        display_after=False,\n        clear_FEA_database=False,\n        use_FEA_model_ID=False,\n        coord_units=\"mm\",\n        mesh_type=SherlockModelService_pb2.MeshType.NONE,\n        is_modeling_region_enabled=False,\n        trace_output_type=SherlockModelService_pb2.TraceOutputType.ALL_REGIONS,\n        element_order=SherlockAnalysisService_pb2.ElementOrder.Linear,\n        max_mesh_size=1.0,\n        max_mesh_size_units=\"mm\",\n        max_holes_per_trace=3,\n        is_drill_hole_modeling_enabled=False,\n        drill_hole_min_diameter=1.0,\n        drill_hole_min_diameter_units=\"mm\",\n        drill_hole_max_edge_length=1.0,\n        drill_hole_max_edge_length_units=\"mm\",\n    )\n    copper_2_layer = sherlock.model.createExportTraceCopperLayerParams(\n        project_name=\"Test\",\n        cca_name=\"Auto Relay\",\n        output_file_path=os.path.join(get_temp_dir(), \"outputfile_path2.stp\"),\n        copper_layer=\"AutoRelayTop.gbr\",\n        overwrite=True,\n        display_after=False,\n        clear_FEA_database=False,\n        use_FEA_model_ID=False,\n        coord_units=\"mm\",\n        mesh_type=SherlockModelService_pb2.MeshType.NONE,\n        is_modeling_region_enabled=False,\n        trace_output_type=SherlockModelService_pb2.TraceOutputType.ALL_REGIONS,\n        element_order=SherlockAnalysisService_pb2.ElementOrder.Linear,\n        max_mesh_size=1.0,\n        max_mesh_size_units=\"mm\",\n        max_holes_per_trace=3,\n        is_drill_hole_modeling_enabled=False,\n        drill_hole_min_diameter=1.0,\n        drill_hole_min_diameter_units=\"mm\",\n        drill_hole_max_edge_length=1.0,\n        drill_hole_max_edge_length_units=\"mm\",\n    )\n    sherlock.model.exportTraceModel([copper_1_layer, copper_2_layer])\n    print(\"Trace models exported successfully.\")\nexcept SherlockModelServiceError as e:\n    print(f\"Error exporting trace model: {e}\")"
      ]
    }
  ],
  "metadata": {
    "kernelspec": {
      "display_name": "Python 3",
      "language": "python",
      "name": "python3"
    },
    "language_info": {
      "codemirror_mode": {
        "name": "ipython",
        "version": 3
      },
      "file_extension": ".py",
      "mimetype": "text/x-python",
      "name": "python",
      "nbconvert_exporter": "python",
      "pygments_lexer": "ipython3",
      "version": "3.13.1"
    }
  },
  "nbformat": 4,
  "nbformat_minor": 0
}