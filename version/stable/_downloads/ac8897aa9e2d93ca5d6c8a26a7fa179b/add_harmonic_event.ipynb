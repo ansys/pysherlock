{
  "cells": [
    {
      "cell_type": "markdown",
      "metadata": {},
      "source": [
        "\n\n# Add Harmonic Event to Lifecycle Phase\n\nThis example demonstrates how to launch the Sherlock gRPC service, import a project,\ncreate a lifecycle phase, and add a harmonic event to the phase, then properly close the connection.\n\n## Description\nSherlock's gRPC API allows users to automate workflows such as creating lifecycle phases\nand adding harmonic events.\nThis script demonstrates how to:\n- Connect to the Sherlock service.\n- Import a project.\n- Create a lifecycle phase.\n- Add a harmonic event to the lifecycle phase.\n\nThe harmonic event can be used for thermal analysis and helps in simulating the effects\nof various conditions on the board.\n"
      ]
    },
    {
      "cell_type": "code",
      "execution_count": null,
      "metadata": {
        "collapsed": false
      },
      "outputs": [],
      "source": [
        "import os\n\nfrom examples.examples_globals import get_sherlock_tutorial_path\n\nfrom ansys.sherlock.core import LOG, launcher\nfrom ansys.sherlock.core.errors import (\n    SherlockAddHarmonicEventError,\n    SherlockCreateLifePhaseError,\n    SherlockImportProjectZipArchiveError,\n)"
      ]
    },
    {
      "cell_type": "markdown",
      "metadata": {},
      "source": [
        "### Connect to Sherlock\nConnect to the Sherlock service and ensure proper initialization.\n\n"
      ]
    },
    {
      "cell_type": "code",
      "execution_count": null,
      "metadata": {
        "collapsed": false
      },
      "outputs": [],
      "source": [
        "sherlock = launcher.connect(port=9092, timeout=10)"
      ]
    },
    {
      "cell_type": "markdown",
      "metadata": {},
      "source": [
        "### Delete Project\nDelete the project if it already exists.\n\n"
      ]
    },
    {
      "cell_type": "code",
      "execution_count": null,
      "metadata": {
        "collapsed": false
      },
      "outputs": [],
      "source": [
        "try:\n    sherlock.project.delete_project(\"Test\")\n    LOG.info(\"Project deleted successfully.\")\nexcept Exception:\n    pass"
      ]
    },
    {
      "cell_type": "markdown",
      "metadata": {},
      "source": [
        "### Import Tutorial Project\nImport the tutorial project zip archive from the Sherlock tutorial directory.\n\n"
      ]
    },
    {
      "cell_type": "code",
      "execution_count": null,
      "metadata": {
        "collapsed": false
      },
      "outputs": [],
      "source": [
        "try:\n    sherlock.project.import_project_zip_archive(\n        project=\"Test\",\n        category=\"Demos\",\n        archive_file=os.path.join(get_sherlock_tutorial_path(), \"Auto Relay Project.zip\"),\n    )\n    LOG.info(\"Tutorial project imported successfully.\")\nexcept SherlockImportProjectZipArchiveError as e:\n    LOG.error(f\"Error importing project zip archive: {e}\")\n\nphase_name = \"Life Phase Example\""
      ]
    },
    {
      "cell_type": "markdown",
      "metadata": {},
      "source": [
        "### Create Lifecycle Phase\nCreate a new lifecycle phase called \"Example\" in the \"Test\" project.\n\n"
      ]
    },
    {
      "cell_type": "code",
      "execution_count": null,
      "metadata": {
        "collapsed": false
      },
      "outputs": [],
      "source": [
        "try:\n    sherlock.lifecycle.create_life_phase(\n        project=\"Test\",\n        phase_name=phase_name,\n        duration=1.5,\n        duration_units=\"sec\",\n        num_of_cycles=4.0,\n        cycle_type=\"COUNT\",\n        description=\"Example phase\",\n    )\n    LOG.info(\"Lifecycle phase 'Example' created successfully.\")\nexcept SherlockCreateLifePhaseError as e:\n    LOG.error(f\"Error creating lifecycle phase: {e}\")"
      ]
    },
    {
      "cell_type": "markdown",
      "metadata": {},
      "source": [
        "### Add Harmonic Event to Lifecycle Phase\nAdd a harmonic event to the \"Example\" lifecycle phase.\n\n"
      ]
    },
    {
      "cell_type": "code",
      "execution_count": null,
      "metadata": {
        "collapsed": false
      },
      "outputs": [],
      "source": [
        "try:\n    sherlock.lifecycle.add_harmonic_event(\n        project=\"Test\",\n        phase_name=phase_name,\n        event_name=\"Event1\",\n        duration=1.5,\n        duration_units=\"sec\",\n        num_of_cycles=4.0,\n        cycle_type=\"PER MIN\",\n        sweep_rate=5,\n        orientation=\"23.45, 34.56\",\n        profile_type=\"Uniaxial\",\n        load_direction=\"2,4,5\",\n        description=\"Harmonic Event Example\",\n    )\n    LOG.info(\"Harmonic event 'Event1' added successfully.\")\nexcept SherlockAddHarmonicEventError as e:\n    LOG.error(f\"Error adding harmonic event: {str(e)}\")"
      ]
    }
  ],
  "metadata": {
    "kernelspec": {
      "display_name": "Python 3",
      "language": "python",
      "name": "python3"
    },
    "language_info": {
      "codemirror_mode": {
        "name": "ipython",
        "version": 3
      },
      "file_extension": ".py",
      "mimetype": "text/x-python",
      "name": "python",
      "nbconvert_exporter": "python",
      "pygments_lexer": "ipython3",
      "version": "3.13.1"
    }
  },
  "nbformat": 4,
  "nbformat_minor": 0
}