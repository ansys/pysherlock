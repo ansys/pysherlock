{
  "cells": [
    {
      "cell_type": "markdown",
      "metadata": {},
      "source": [
        "\n\n# Sherlock Project Export\n\nThis example demonstrates how to connect to the Sherlock gRPC service, import a project,\nand export the project in multiple configurations.\n\nDescription\nSherlock's gRPC API enables automation of various workflows, including project export.\nThis script demonstrates how to:\n- Connect to the Sherlock service.\n- Import a tutorial project ZIP archive.\n- Export a project with different configurations.\n"
      ]
    },
    {
      "cell_type": "code",
      "execution_count": null,
      "metadata": {
        "collapsed": false
      },
      "outputs": [],
      "source": [
        "import os\n\nfrom examples.examples_globals import get_sherlock_tutorial_path, get_temp_dir\n\nfrom ansys.sherlock.core import launcher\nfrom ansys.sherlock.core.errors import (\n    SherlockExportProjectError,\n    SherlockImportProjectZipArchiveError,\n)"
      ]
    },
    {
      "cell_type": "markdown",
      "metadata": {},
      "source": [
        "## Connect to Sherlock\nConnect to the Sherlock service and ensure proper initialization.\n\n"
      ]
    },
    {
      "cell_type": "code",
      "execution_count": null,
      "metadata": {
        "collapsed": false
      },
      "outputs": [],
      "source": [
        "sherlock = launcher.connect(port=9092, timeout=10)"
      ]
    },
    {
      "cell_type": "markdown",
      "metadata": {},
      "source": [
        "## Delete Project\nDelete the project if it already exists.\n\n"
      ]
    },
    {
      "cell_type": "code",
      "execution_count": null,
      "metadata": {
        "collapsed": false
      },
      "outputs": [],
      "source": [
        "try:\n    sherlock.project.delete_project(\"Test\")\n    print(\"Project deleted successfully.\")\nexcept Exception:\n    pass"
      ]
    },
    {
      "cell_type": "markdown",
      "metadata": {},
      "source": [
        "## Import Tutorial Project\nImport a sample project ZIP archive provided with the Sherlock installation.\n\n"
      ]
    },
    {
      "cell_type": "code",
      "execution_count": null,
      "metadata": {
        "collapsed": false
      },
      "outputs": [],
      "source": [
        "try:\n    sherlock.project.import_project_zip_archive(\n        project=\"Test\",\n        category=\"Demos\",\n        archive_file=os.path.join(get_sherlock_tutorial_path(), \"Auto Relay Project.zip\"),\n    )\n    print(\"Tutorial project imported successfully.\")\nexcept SherlockImportProjectZipArchiveError as e:\n    print(f\"Error importing project: {e}\")"
      ]
    },
    {
      "cell_type": "markdown",
      "metadata": {},
      "source": [
        "## Export Project\nExport the imported project with different configurations.\n\n"
      ]
    },
    {
      "cell_type": "code",
      "execution_count": null,
      "metadata": {
        "collapsed": false
      },
      "outputs": [],
      "source": [
        "# Export with all options enabled\ntry:\n    sherlock.project.export_project(\n        project_name=\"Test\",\n        export_design_files=True,\n        export_result_files=True,\n        export_archive_results=True,\n        export_user_files=True,\n        export_log_files=True,\n        export_system_data=True,\n        export_file_dir=get_temp_dir(),\n        export_file_name=\"Exported_Project_All.zip\",\n        overwrite_existing_file=True,\n    )\n    print(\"Project exported successfully with all options enabled.\")\nexcept SherlockExportProjectError as e:\n    print(f\"Error exporting project (all options): {e}\")\n\n# Export with limited options\ntry:\n    sherlock.project.export_project(\n        project_name=\"Test\",\n        export_design_files=True,\n        export_result_files=False,\n        export_archive_results=False,\n        export_user_files=False,\n        export_log_files=False,\n        export_system_data=False,\n        export_file_dir=get_temp_dir(),\n        export_file_name=\"Exported_Project_Limited.zip\",\n        overwrite_existing_file=True,\n    )\n    print(\"Project exported successfully with limited options.\")\nexcept SherlockExportProjectError as e:\n    print(f\"Error exporting project (limited options): {e}\")"
      ]
    }
  ],
  "metadata": {
    "kernelspec": {
      "display_name": "Python 3",
      "language": "python",
      "name": "python3"
    },
    "language_info": {
      "codemirror_mode": {
        "name": "ipython",
        "version": 3
      },
      "file_extension": ".py",
      "mimetype": "text/x-python",
      "name": "python",
      "nbconvert_exporter": "python",
      "pygments_lexer": "ipython3",
      "version": "3.13.1"
    }
  },
  "nbformat": 4,
  "nbformat_minor": 0
}