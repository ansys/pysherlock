{
  "cells": [
    {
      "cell_type": "markdown",
      "metadata": {},
      "source": [
        "\n\n# Update Harmonic Vibration Analysis properties\n\nThis example demonstrates how to connect to the Sherlock gRPC service, import a project,\nand configure harmonic vibration analysis properties.\n\n## Description\nSherlock allows you to perform harmonic vibration analysis.\nThis script performs the following steps:\n- Connect to the Sherlock service.\n- Import a project.\n- Configure the properties for harmonic vibration analysis.\n"
      ]
    },
    {
      "cell_type": "code",
      "execution_count": null,
      "metadata": {
        "collapsed": false
      },
      "outputs": [],
      "source": [
        "\"\"\"\n sphinx_gallery_thumbnail_path =\n './images/sherlock_update_harmonic_vibe_analysis_props_example.png'\n\"\"\"\n\nimport os\n\nfrom examples.examples_globals import get_sherlock_tutorial_path\n\nfrom ansys.sherlock.core import launcher\nfrom ansys.sherlock.core.errors import (\n    SherlockImportProjectZipArchiveError,\n    SherlockUpdateHarmonicVibePropsError,\n)"
      ]
    },
    {
      "cell_type": "markdown",
      "metadata": {},
      "source": [
        "### Connect to Sherlock\nConnect to the Sherlock service and ensure proper initialization.\n\n"
      ]
    },
    {
      "cell_type": "code",
      "execution_count": null,
      "metadata": {
        "collapsed": false
      },
      "outputs": [],
      "source": [
        "sherlock = launcher.connect(port=9092, timeout=10)"
      ]
    },
    {
      "cell_type": "markdown",
      "metadata": {},
      "source": [
        "### Delete Project\nDelete the project if it already exists.\n\n"
      ]
    },
    {
      "cell_type": "code",
      "execution_count": null,
      "metadata": {
        "collapsed": false
      },
      "outputs": [],
      "source": [
        "try:\n    sherlock.project.delete_project(\"Test\")\n    print(\"Project deleted successfully.\")\nexcept Exception:\n    pass"
      ]
    },
    {
      "cell_type": "markdown",
      "metadata": {},
      "source": [
        "### Import Tutorial Project\nImport the tutorial project zip archive from the Sherlock tutorial directory.\n\n"
      ]
    },
    {
      "cell_type": "code",
      "execution_count": null,
      "metadata": {
        "collapsed": false
      },
      "outputs": [],
      "source": [
        "try:\n    sherlock.project.import_project_zip_archive(\n        project=\"Test\",\n        category=\"Demos\",\n        archive_file=os.path.join(get_sherlock_tutorial_path(), \"Auto Relay Project.zip\"),\n    )\n    print(\"Tutorial project imported successfully.\")\nexcept SherlockImportProjectZipArchiveError as e:\n    print(f\"Error importing project zip archive: {e}\")"
      ]
    },
    {
      "cell_type": "markdown",
      "metadata": {},
      "source": [
        "### Update Harmonic Vibration Properties\nConfigure properties for harmonic vibration analysis.\n\n"
      ]
    },
    {
      "cell_type": "code",
      "execution_count": null,
      "metadata": {
        "collapsed": false
      },
      "outputs": [],
      "source": [
        "try:\n    # Update properties for harmonic vibration analysis\n    sherlock.analysis.update_harmonic_vibe_props(\n        project=\"Test\",\n        harmonic_vibe_properties=[\n            {\n                \"cca_name\": \"Auto Relay\",\n                \"harmonic_vibe_count\": 2,\n                \"harmonic_vibe_damping\": \"0.01, 0.05\",\n                \"part_validation_enabled\": False,\n                \"require_material_assignment_enabled\": False,\n                \"analysis_temp\": 23.8,\n                \"analysis_temp_units\": \"C\",\n                \"filter_by_event_frequency\": False,\n            }\n        ],\n    )\n    print(\"Harmonic vibration properties updated successfully.\")\nexcept SherlockUpdateHarmonicVibePropsError as e:\n    print(f\"Error updating harmonic vibration properties: {e}\")"
      ]
    }
  ],
  "metadata": {
    "kernelspec": {
      "display_name": "Python 3",
      "language": "python",
      "name": "python3"
    },
    "language_info": {
      "codemirror_mode": {
        "name": "ipython",
        "version": 3
      },
      "file_extension": ".py",
      "mimetype": "text/x-python",
      "name": "python",
      "nbconvert_exporter": "python",
      "pygments_lexer": "ipython3",
      "version": "3.13.1"
    }
  },
  "nbformat": 4,
  "nbformat_minor": 0
}