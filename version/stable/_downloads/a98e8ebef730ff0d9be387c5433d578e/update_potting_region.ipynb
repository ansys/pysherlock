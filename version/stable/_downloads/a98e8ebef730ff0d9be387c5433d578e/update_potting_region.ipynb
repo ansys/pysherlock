{
  "cells": [
    {
      "cell_type": "markdown",
      "metadata": {},
      "source": [
        "\n\n# Add and Update Potting Regions\n\nThis example demonstrates how to connect to the Sherlock gRPC service, import a project,\nadd potting regions, update existing potting regions, and properly close the connection.\n\n## Description\nSherlock's gRPC API allows users to automate workflows such as adding and updating potting\nregions for CCAs.\nThis script demonstrates how to:\n- Connect to the Sherlock service.\n- Import a project.\n- Add a potting region.\n- Update an existing potting region.\n"
      ]
    },
    {
      "cell_type": "code",
      "execution_count": null,
      "metadata": {
        "collapsed": false
      },
      "outputs": [],
      "source": [
        "import os\n\nfrom examples.examples_globals import get_sherlock_tutorial_path\n\nfrom ansys.sherlock.core import launcher\nfrom ansys.sherlock.core.errors import (\n    SherlockAddPottingRegionError,\n    SherlockImportProjectZipArchiveError,\n)\nfrom ansys.sherlock.core.types.layer_types import (\n    PolygonalShape,\n    PottingRegion,\n    PottingRegionUpdateData,\n    UpdatePottingRegionRequest,\n)"
      ]
    },
    {
      "cell_type": "markdown",
      "metadata": {},
      "source": [
        "### Connect to Sherlock\nConnect to the Sherlock service and ensure proper initialization.\n\n"
      ]
    },
    {
      "cell_type": "code",
      "execution_count": null,
      "metadata": {
        "collapsed": false
      },
      "outputs": [],
      "source": [
        "sherlock = launcher.connect(port=9092, timeout=10)"
      ]
    },
    {
      "cell_type": "markdown",
      "metadata": {},
      "source": [
        "### Delete Project\nDelete the project if it already exists.\n\n"
      ]
    },
    {
      "cell_type": "code",
      "execution_count": null,
      "metadata": {
        "collapsed": false
      },
      "outputs": [],
      "source": [
        "try:\n    sherlock.project.delete_project(\"Test\")\n    print(\"Project deleted successfully.\")\nexcept Exception:\n    pass"
      ]
    },
    {
      "cell_type": "markdown",
      "metadata": {},
      "source": [
        "### Import Tutorial Project\nImport the tutorial project zip archive from the Sherlock tutorial directory.\n\n"
      ]
    },
    {
      "cell_type": "code",
      "execution_count": null,
      "metadata": {
        "collapsed": false
      },
      "outputs": [],
      "source": [
        "try:\n    sherlock.project.import_project_zip_archive(\n        project=\"Test\",\n        category=\"Demos\",\n        archive_file=os.path.join(get_sherlock_tutorial_path(), \"Auto Relay Project.zip\"),\n    )\n    print(\"Tutorial project imported successfully.\")\nexcept SherlockImportProjectZipArchiveError as e:\n    print(f\"Error importing project zip archive: {e}\")\n\npotting_region_id = \"Test Region\""
      ]
    },
    {
      "cell_type": "markdown",
      "metadata": {},
      "source": [
        "### Add Potting Region\nAdd a new potting region to a CCA.\n\n"
      ]
    },
    {
      "cell_type": "code",
      "execution_count": null,
      "metadata": {
        "collapsed": false
      },
      "outputs": [],
      "source": [
        "try:\n    polygonal_shape = PolygonalShape(\n        points=[\n            (0, 0),\n            (0, 6.35),\n            (9.77, 0),\n        ],\n        rotation=87.8,\n    )\n    sherlock.layer.add_potting_region(\n        project=\"Test\",\n        potting_regions=[\n            {\n                \"cca_name\": \"Auto Relay\",\n                \"potting_id\": potting_region_id,\n                \"side\": \"TOP\",\n                \"material\": \"epoxyencapsulant\",\n                \"potting_units\": \"in\",\n                \"thickness\": 0.1,\n                \"standoff\": 0.2,\n                \"shape\": polygonal_shape,\n            },\n        ],\n    )\n    print(\"Potting region added successfully.\")\nexcept SherlockAddPottingRegionError as e:\n    print(f\"Error adding potting region: {e}\")"
      ]
    },
    {
      "cell_type": "markdown",
      "metadata": {},
      "source": [
        "### Update Potting Region\nUpdate an existing potting region.\n\n"
      ]
    },
    {
      "cell_type": "code",
      "execution_count": null,
      "metadata": {
        "collapsed": false
      },
      "outputs": [],
      "source": [
        "update_data = PottingRegionUpdateData(\n    potting_region_id_to_update=potting_region_id,\n    potting_region=PottingRegion(\n        cca_name=\"Main Board\",\n        potting_id=\"Updated Test Region\",\n        potting_side=\"BOT\",\n        potting_material=\"epoxyencapsulant\",\n        potting_units=\"mm\",\n        potting_thickness=0.3,\n        potting_standoff=0.1,\n        shape=PolygonalShape(\n            points=[(0, 1), (5, 1), (5, 5), (1, 5)],\n            rotation=45.0,\n        ),\n    ),\n)\n\ntry:\n    update_request = UpdatePottingRegionRequest(\n        project=\"Test\",\n        update_potting_regions=[update_data],\n    )\n    sherlock.layer.update_potting_region(update_request)\n    print(\"Potting region updated successfully.\")\nexcept Exception as e:\n    print(f\"Error updating potting region: {e}\")"
      ]
    }
  ],
  "metadata": {
    "kernelspec": {
      "display_name": "Python 3",
      "language": "python",
      "name": "python3"
    },
    "language_info": {
      "codemirror_mode": {
        "name": "ipython",
        "version": 3
      },
      "file_extension": ".py",
      "mimetype": "text/x-python",
      "name": "python",
      "nbconvert_exporter": "python",
      "pygments_lexer": "ipython3",
      "version": "3.13.1"
    }
  },
  "nbformat": 4,
  "nbformat_minor": 0
}