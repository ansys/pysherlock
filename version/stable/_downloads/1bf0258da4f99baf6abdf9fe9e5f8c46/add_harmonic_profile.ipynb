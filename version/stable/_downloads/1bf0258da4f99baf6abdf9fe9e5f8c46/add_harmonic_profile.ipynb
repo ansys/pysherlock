{
  "cells": [
    {
      "cell_type": "markdown",
      "metadata": {},
      "source": [
        "\n\n# Add Harmonic Vibration Profiles\n\nThis example demonstrates how to connect to the Sherlock gRPC service, import a project,\ncreate a lifecycle phase, add a harmonic event to the phase, and add harmonic\nvibration profiles.\n\n## Description\nSherlock's gRPC API allows users to automate workflows such as adding harmonic vibration profiles\nto lifecycle phases.\nThis script demonstrates how to:\n- Connect to the Sherlock service.\n- Import a project.\n- Create a lifecycle phase.\n- Add a harmonic event to the lifecycle phase.\n- Add vibration profiles to the harmonic event.\n\nThe harmonic vibration profiles simulate the effects of vibration conditions on the board.\n"
      ]
    },
    {
      "cell_type": "code",
      "execution_count": null,
      "metadata": {
        "collapsed": false
      },
      "outputs": [],
      "source": [
        "import os\n\nfrom examples.examples_globals import get_sherlock_tutorial_path\n\nfrom ansys.sherlock.core import launcher\nfrom ansys.sherlock.core.errors import SherlockImportProjectZipArchiveError"
      ]
    },
    {
      "cell_type": "markdown",
      "metadata": {},
      "source": [
        "### Connect to Sherlock\nConnect to the Sherlock service and ensure proper initialization.\n\n"
      ]
    },
    {
      "cell_type": "code",
      "execution_count": null,
      "metadata": {
        "collapsed": false
      },
      "outputs": [],
      "source": [
        "sherlock = launcher.connect(port=9092, timeout=10)"
      ]
    },
    {
      "cell_type": "markdown",
      "metadata": {},
      "source": [
        "### Delete Project\nDelete the project if it already exists.\n\n"
      ]
    },
    {
      "cell_type": "code",
      "execution_count": null,
      "metadata": {
        "collapsed": false
      },
      "outputs": [],
      "source": [
        "try:\n    sherlock.project.delete_project(\"Test\")\n    print(\"Project deleted successfully.\")\nexcept Exception:\n    pass"
      ]
    },
    {
      "cell_type": "markdown",
      "metadata": {},
      "source": [
        "### Import Tutorial Project\nImport the tutorial project zip archive from the Sherlock tutorial directory.\n\n"
      ]
    },
    {
      "cell_type": "code",
      "execution_count": null,
      "metadata": {
        "collapsed": false
      },
      "outputs": [],
      "source": [
        "try:\n    sherlock.project.import_project_zip_archive(\n        project=\"Test\",\n        category=\"Demos\",\n        archive_file=os.path.join(get_sherlock_tutorial_path(), \"Auto Relay Project.zip\"),\n    )\n    print(\"Tutorial project imported successfully.\")\nexcept SherlockImportProjectZipArchiveError as e:\n    print(f\"Error importing project zip archive: {e}\")"
      ]
    },
    {
      "cell_type": "markdown",
      "metadata": {},
      "source": [
        "### Create Lifecycle Phase and Add Harmonic Event\nCreate a new lifecycle phase and add a harmonic event to it.\n\n"
      ]
    },
    {
      "cell_type": "code",
      "execution_count": null,
      "metadata": {
        "collapsed": false
      },
      "outputs": [],
      "source": [
        "try:\n    phase_name = \"Life Phase Example\"\n    event_name = \"Example Harmonic Event\"\n\n    # Create lifecycle phase\n    sherlock.lifecycle.create_life_phase(\n        project=\"Test\",\n        phase_name=phase_name,\n        duration=1.5,\n        duration_units=\"sec\",\n        num_of_cycles=4.0,\n        cycle_type=\"COUNT\",\n        description=\"Example lifecycle phase.\",\n    )\n    print(f\"Lifecycle phase '{phase_name}' created successfully.\")\n\n    # Add harmonic event to lifecycle phase\n    sherlock.lifecycle.add_harmonic_event(\n        project=\"Test\",\n        phase_name=phase_name,\n        event_name=event_name,\n        duration=1.5,\n        duration_units=\"sec\",\n        num_of_cycles=4.0,\n        cycle_type=\"PER MIN\",\n        sweep_rate=5,\n        orientation=\"45,45\",\n        profile_type=\"Triaxial\",\n        load_direction=\"2,4,5\",\n        description=\"Example harmonic event.\",\n    )\n    print(f\"Harmonic event '{event_name}' added successfully.\")\n\n    # Add harmonic vibration profiles to the lifecycle phase.\n    sherlock.lifecycle.add_harmonic_vibe_profiles(\n        project=\"Test\",\n        harmonic_vibe_profiles=[\n            (phase_name, event_name, \"Profile z axis\", \"HZ\", \"G\", [(10, 1), (1000, 1)], \"z\")\n        ],\n    )\n    print(\"Harmonic vibration profile added successfully.\")\n\nexcept Exception as e:\n    print(f\"Error creating life phase, harmonic event, or harmonic vibe profiles. {e}\")"
      ]
    }
  ],
  "metadata": {
    "kernelspec": {
      "display_name": "Python 3",
      "language": "python",
      "name": "python3"
    },
    "language_info": {
      "codemirror_mode": {
        "name": "ipython",
        "version": 3
      },
      "file_extension": ".py",
      "mimetype": "text/x-python",
      "name": "python",
      "nbconvert_exporter": "python",
      "pygments_lexer": "ipython3",
      "version": "3.13.1"
    }
  },
  "nbformat": 4,
  "nbformat_minor": 0
}