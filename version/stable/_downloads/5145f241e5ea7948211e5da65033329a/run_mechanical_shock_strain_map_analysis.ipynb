{
  "cells": [
    {
      "cell_type": "markdown",
      "metadata": {},
      "source": [
        "\n\n# Run Mechanical Shock Analysis Example\n\nThis example demonstrates how to connect to the Sherlock gRPC service, import a project,\nadd strain maps, and run a mechanical shock analysis based on strain maps.\n\n## Description\nSherlock provides tools to perform mechanical shock analysis using strain maps.\nThis script includes the following steps:\n- Connect to the Sherlock service.\n- Import a project.\n- Add a strain map file to the project.\n- Configure the analysis properties for mechanical shock.\n- Execute the mechanical shock analysis.\n\nFor further details, refer to the official documentation on mechanical shock analysis in Sherlock.\n"
      ]
    },
    {
      "cell_type": "code",
      "execution_count": null,
      "metadata": {
        "collapsed": false
      },
      "outputs": [],
      "source": [
        "import os\n\nfrom ansys.api.sherlock.v0.SherlockAnalysisService_pb2 import RunStrainMapAnalysisRequest\nfrom examples.examples_globals import get_sherlock_tutorial_path\n\nfrom ansys.sherlock.core import launcher\nfrom ansys.sherlock.core.errors import (\n    SherlockAddStrainMapsError,\n    SherlockImportProjectZipArchiveError,\n    SherlockRunStrainMapAnalysisError,\n)\nfrom ansys.sherlock.core.types.analysis_types import ModelSource\nfrom ansys.sherlock.core.types.project_types import StrainMapsFileType"
      ]
    },
    {
      "cell_type": "markdown",
      "metadata": {},
      "source": [
        "### Connect to Sherlock\nConnect to the Sherlock service and ensure proper initialization.\n\n"
      ]
    },
    {
      "cell_type": "code",
      "execution_count": null,
      "metadata": {
        "collapsed": false
      },
      "outputs": [],
      "source": [
        "sherlock = launcher.connect(port=9092, timeout=10)"
      ]
    },
    {
      "cell_type": "markdown",
      "metadata": {},
      "source": [
        "### Delete Project\nDelete the project if it already exists.\n\n"
      ]
    },
    {
      "cell_type": "code",
      "execution_count": null,
      "metadata": {
        "collapsed": false
      },
      "outputs": [],
      "source": [
        "try:\n    sherlock.project.delete_project(\"Test\")\n    print(\"Project deleted successfully.\")\nexcept Exception:\n    pass"
      ]
    },
    {
      "cell_type": "markdown",
      "metadata": {},
      "source": [
        "### Import Tutorial Project\nImport the tutorial project zip archive from the Sherlock tutorial directory.\n\n"
      ]
    },
    {
      "cell_type": "code",
      "execution_count": null,
      "metadata": {
        "collapsed": false
      },
      "outputs": [],
      "source": [
        "try:\n    sherlock.project.import_project_zip_archive(\n        project=\"Test\",\n        category=\"Demos\",\n        archive_file=os.path.join(get_sherlock_tutorial_path(), \"Tutorial Project.zip\"),\n    )\n    print(\"Tutorial project imported successfully.\")\nexcept SherlockImportProjectZipArchiveError as e:\n    print(f\"Error importing project zip archive: {e}\")"
      ]
    },
    {
      "cell_type": "markdown",
      "metadata": {},
      "source": [
        "### Add Strain Map\nAdd a strain map to the project.\n\n"
      ]
    },
    {
      "cell_type": "code",
      "execution_count": null,
      "metadata": {
        "collapsed": false
      },
      "outputs": [],
      "source": [
        "try:\n    strain_map_path = os.path.join(get_sherlock_tutorial_path(), \"StrainMaps\", \"StrainMap.csv\")\n    sherlock.project.add_strain_maps(\n        project=\"Test\",\n        strain_maps=[\n            (\n                strain_map_path,\n                \"This is the strain map file for the project\",\n                StrainMapsFileType.CSV,\n                0,\n                \"SolidID\",\n                \"PCB Strain\",\n                \"\u00b5\u03b5\",\n                [\"Main Board\"],\n            )\n        ],\n    )\n    print(\"Strain maps added successfully.\")\nexcept SherlockAddStrainMapsError as e:\n    print(f\"Error adding strain maps: {e}\")"
      ]
    },
    {
      "cell_type": "markdown",
      "metadata": {},
      "source": [
        "### Update Mechanical Shock Properties\nConfigure properties for mechanical shock analysis using strain maps.\n\n"
      ]
    },
    {
      "cell_type": "code",
      "execution_count": null,
      "metadata": {
        "collapsed": false
      },
      "outputs": [],
      "source": [
        "try:\n    # Update properties for mechanical shock analysis\n    sherlock.analysis.update_mechanical_shock_props(\n        project=\"Test\",\n        mechanical_shock_properties=[\n            {\n                \"cca_name\": \"Main Board\",\n                \"model_source\": ModelSource.STRAIN_MAP,\n                \"shock_result_count\": 1,\n                \"part_validation_enabled\": False,\n                \"require_material_assignment_enabled\": True,\n                \"force_model_rebuild\": \"AUTO\",\n                \"natural_freq_min\": 1,\n                \"natural_freq_min_units\": \"Hz\",\n                \"natural_freq_max\": 100,\n                \"natural_freq_max_units\": \"KHz\",\n                \"analysis_temp\": 20,\n                \"analysis_temp_units\": \"C\",\n            }\n        ],\n    )\n    print(\"Mechanical shock properties updated successfully.\")\nexcept SherlockRunStrainMapAnalysisError as e:\n    print(f\"Error updating mechanical shock properties: {e}\")"
      ]
    },
    {
      "cell_type": "markdown",
      "metadata": {},
      "source": [
        "### Run Mechanical Shock Analysis\nExecute the mechanical shock analysis based on strain maps.\n\n"
      ]
    },
    {
      "cell_type": "code",
      "execution_count": null,
      "metadata": {
        "collapsed": false
      },
      "outputs": [],
      "source": [
        "try:\n    sherlock.analysis.run_strain_map_analysis(\n        project=\"Test\",\n        cca_name=\"Main Board\",\n        strain_map_analyses=[\n            [\n                RunStrainMapAnalysisRequest.StrainMapAnalysis.AnalysisType.MechanicalShock,\n                [\n                    [\"On The Road\", \"2 - Pothole\", \"TOP\", \"StrainMap - Top\"],\n                    [\"On The Road\", \"3 - Collision\", \"BOTTOM\", \"StrainMap - Bottom\"],\n                ],\n            ]\n        ],\n    )\n    print(\"Mechanical shock analysis executed successfully.\")\nexcept SherlockRunStrainMapAnalysisError as e:\n    print(f\"Error running mechanical shock analysis: {e}\")"
      ]
    }
  ],
  "metadata": {
    "kernelspec": {
      "display_name": "Python 3",
      "language": "python",
      "name": "python3"
    },
    "language_info": {
      "codemirror_mode": {
        "name": "ipython",
        "version": 3
      },
      "file_extension": ".py",
      "mimetype": "text/x-python",
      "name": "python",
      "nbconvert_exporter": "python",
      "pygments_lexer": "ipython3",
      "version": "3.13.1"
    }
  },
  "nbformat": 4,
  "nbformat_minor": 0
}