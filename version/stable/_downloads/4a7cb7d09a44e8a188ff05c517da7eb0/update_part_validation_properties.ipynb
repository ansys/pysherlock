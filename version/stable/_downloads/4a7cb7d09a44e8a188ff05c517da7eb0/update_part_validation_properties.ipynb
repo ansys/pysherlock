{
  "cells": [
    {
      "cell_type": "markdown",
      "metadata": {},
      "source": [
        "\n\n# Run Part List Validation Analysis\n\nThis example demonstrates how to connect to the Sherlock gRPC service, import a project,\nand configure part list validation analysis properties.\n\n## Description\nSherlock allows you to perform part list validation analysis.\nThis script performs the following steps:\n- Connect to the Sherlock service.\n- Import a project.\n- Configure the properties for part list validation analysis.\n"
      ]
    },
    {
      "cell_type": "code",
      "execution_count": null,
      "metadata": {
        "collapsed": false
      },
      "outputs": [],
      "source": [
        "import os\n\nfrom examples.examples_globals import get_sherlock_tutorial_path\n\nfrom ansys.sherlock.core import launcher\nfrom ansys.sherlock.core.errors import (\n    SherlockImportProjectZipArchiveError,\n    SherlockUpdatePartListValidationAnalysisPropsError,\n)"
      ]
    },
    {
      "cell_type": "markdown",
      "metadata": {},
      "source": [
        "### Connect to Sherlock\nConnect to the Sherlock service and ensure proper initialization.\n\n"
      ]
    },
    {
      "cell_type": "code",
      "execution_count": null,
      "metadata": {
        "collapsed": false
      },
      "outputs": [],
      "source": [
        "sherlock = launcher.connect(port=9092, timeout=10)"
      ]
    },
    {
      "cell_type": "markdown",
      "metadata": {},
      "source": [
        "### Delete Project\nDelete the project if it already exists.\n\n"
      ]
    },
    {
      "cell_type": "code",
      "execution_count": null,
      "metadata": {
        "collapsed": false
      },
      "outputs": [],
      "source": [
        "try:\n    sherlock.project.delete_project(\"Test\")\n    print(\"Project deleted successfully.\")\nexcept Exception:\n    pass"
      ]
    },
    {
      "cell_type": "markdown",
      "metadata": {},
      "source": [
        "### Import Tutorial Project\nImport the tutorial project zip archive from the Sherlock tutorial directory.\n\n"
      ]
    },
    {
      "cell_type": "code",
      "execution_count": null,
      "metadata": {
        "collapsed": false
      },
      "outputs": [],
      "source": [
        "try:\n    sherlock.project.import_project_zip_archive(\n        project=\"Test\",\n        category=\"Demos\",\n        archive_file=os.path.join(get_sherlock_tutorial_path(), \"Auto Relay Project.zip\"),\n    )\n    print(\"Tutorial project imported successfully.\")\nexcept SherlockImportProjectZipArchiveError as e:\n    print(f\"Error importing project zip archive: {e}\")"
      ]
    },
    {
      "cell_type": "markdown",
      "metadata": {},
      "source": [
        "### Update Part List Validation Properties\nConfigure properties for part list validation analysis.\n\n"
      ]
    },
    {
      "cell_type": "code",
      "execution_count": null,
      "metadata": {
        "collapsed": false
      },
      "outputs": [],
      "source": [
        "try:\n    # Update properties for part list validation analysis\n    sherlock.analysis.update_part_list_validation_analysis_props(\n        project=\"Test\",\n        properties_per_cca=[\n            {\n                \"cca_name\": \"Main Board\",\n                \"process_use_avl\": True,\n                \"process_use_wizard\": True,\n                \"process_check_confirmed_properties\": False,\n                \"process_check_part_numbers\": False,\n                \"matching_mode\": \"Part\",\n                \"avl_require_internal_part_number\": False,\n                \"avl_require_approved_description\": True,\n                \"avl_require_approved_manufacturer\": False,\n            }\n        ],\n    )\n    print(\"Part list validation analysis properties updated successfully.\")\nexcept SherlockUpdatePartListValidationAnalysisPropsError as e:\n    print(f\"Error updating part list validation analysis properties: {e}\")"
      ]
    }
  ],
  "metadata": {
    "kernelspec": {
      "display_name": "Python 3",
      "language": "python",
      "name": "python3"
    },
    "language_info": {
      "codemirror_mode": {
        "name": "ipython",
        "version": 3
      },
      "file_extension": ".py",
      "mimetype": "text/x-python",
      "name": "python",
      "nbconvert_exporter": "python",
      "pygments_lexer": "ipython3",
      "version": "3.13.1"
    }
  },
  "nbformat": 4,
  "nbformat_minor": 0
}